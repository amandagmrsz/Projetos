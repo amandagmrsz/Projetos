{
  "nbformat": 4,
  "nbformat_minor": 0,
  "metadata": {
    "colab": {
      "provenance": [],
      "authorship_tag": "ABX9TyMo/6hnDlZ7uLAyRrx1f8Ng",
      "include_colab_link": true
    },
    "kernelspec": {
      "name": "python3",
      "display_name": "Python 3"
    },
    "language_info": {
      "name": "python"
    }
  },
  "cells": [
    {
      "cell_type": "markdown",
      "metadata": {
        "id": "view-in-github",
        "colab_type": "text"
      },
      "source": [
        "<a href=\"https://colab.research.google.com/github/amandagmrsz/Projetos-Feitos-Na-Faculdade/blob/main/Avaliacao1Semestre.ipynb\" target=\"_parent\"><img src=\"https://colab.research.google.com/assets/colab-badge.svg\" alt=\"Open In Colab\"/></a>"
      ]
    },
    {
      "cell_type": "markdown",
      "source": [],
      "metadata": {
        "id": "LPKF0YfN9ZMj"
      }
    },
    {
      "cell_type": "markdown",
      "source": [
        "***Programação de Computadores***\n",
        "\n"
      ],
      "metadata": {
        "id": "op6UmVzNXy54"
      }
    },
    {
      "cell_type": "markdown",
      "source": [
        "**23/05/24 - Lista - Aula 1**"
      ],
      "metadata": {
        "id": "NnJ3_8W4Y2SY"
      }
    },
    {
      "cell_type": "code",
      "source": [
        "  #Lista é uma estrutura de dados  recebe elementos separados por vírgula e utiliza [] , mutável permite modificações\n",
        "# :: - pulando de .. o numero que tiver depois dos dois pontos\n",
        "# 2:5 - entre 2 e 5\n",
        "#\n",
        "\n",
        "nome=[\"Amanda\", \"Maria Fernanda\", \"David\"]\n",
        "type(nome) #informar o tipo da estrutura de dados\n",
        "nome[:1] #notação para manipular lista\n",
        "len(nome) # len(nome) - quantos elementos tem na lista"
      ],
      "metadata": {
        "colab": {
          "base_uri": "https://localhost:8080/"
        },
        "id": "CrBpttvPatLl",
        "outputId": "d28e0293-fa61-4cf3-d37c-3184485b40a0"
      },
      "execution_count": null,
      "outputs": [
        {
          "output_type": "execute_result",
          "data": {
            "text/plain": [
              "3"
            ]
          },
          "metadata": {},
          "execution_count": 34
        }
      ]
    },
    {
      "cell_type": "code",
      "source": [
        "#Tuple é uma estrutura de dados que  utiliza () , não mutável, não permite modificações\n",
        "nome=(\"Amanda\", \"Maria Fernanda\", \"David\")\n",
        "type(nome)"
      ],
      "metadata": {
        "colab": {
          "base_uri": "https://localhost:8080/"
        },
        "id": "h2sUBMgDbeRv",
        "outputId": "92c99bf3-5510-47ba-f774-dad9d2acfda0"
      },
      "execution_count": null,
      "outputs": [
        {
          "output_type": "execute_result",
          "data": {
            "text/plain": [
              "tuple"
            ]
          },
          "metadata": {},
          "execution_count": 2
        }
      ]
    },
    {
      "cell_type": "markdown",
      "source": [
        "**PRATICA DE LISTA - 06/06/2024**"
      ],
      "metadata": {
        "id": "4bg9BC94epWc"
      }
    },
    {
      "cell_type": "code",
      "source": [
        "#CRIAR LISTA COM 5 AUTORES DO CURSO\n",
        "Autores_CC=[\"Alan Turing\", \"Jeannette Wing\", \"Jean Piaget\", \"Seymour Papert\", \"Tanenbaum\"]\n",
        "type(Autores_CC)"
      ],
      "metadata": {
        "colab": {
          "base_uri": "https://localhost:8080/"
        },
        "id": "Bx0HU92gdUwK",
        "outputId": "70a8110d-770d-43f8-ad26-c9163f33e199"
      },
      "execution_count": null,
      "outputs": [
        {
          "output_type": "execute_result",
          "data": {
            "text/plain": [
              "list"
            ]
          },
          "metadata": {},
          "execution_count": 23
        }
      ]
    },
    {
      "cell_type": "code",
      "source": [
        "#crie uma lista com 5 autoras do curso de ciencias da computação\n",
        "\n",
        "Autoras_CC= [\"Barbara Liskov\", \"Grace Hopper\", \"Ida Rhodes\", \"Radia Perlman\", \"Sheryl Sandberg\"]\n",
        "Autoras_CC.append(\"Ämanda Guimarães\")\n",
        "Autoras_CC"
      ],
      "metadata": {
        "colab": {
          "base_uri": "https://localhost:8080/"
        },
        "id": "yONPVmOmflol",
        "outputId": "a98abc02-eec6-4b27-ebbb-70b87b5b75e2"
      },
      "execution_count": null,
      "outputs": [
        {
          "output_type": "execute_result",
          "data": {
            "text/plain": [
              "['Barbara Liskov',\n",
              " 'Grace Hopper',\n",
              " 'Ida Rhodes',\n",
              " 'Radia Perlman',\n",
              " 'Sheryl Sandberg',\n",
              " 'Ämanda Guimarães']"
            ]
          },
          "metadata": {},
          "execution_count": 24
        }
      ]
    },
    {
      "cell_type": "code",
      "source": [
        "Autoras_CC+Autores_CC #soma de lista"
      ],
      "metadata": {
        "id": "Mqf13H9KgNU2"
      },
      "execution_count": null,
      "outputs": []
    },
    {
      "cell_type": "code",
      "source": [
        "Autores_CC*3 #multiplicação de lista"
      ],
      "metadata": {
        "id": "SCBUbiCshPgN"
      },
      "execution_count": null,
      "outputs": []
    },
    {
      "cell_type": "code",
      "source": [
        "Autores_CC/3 #divisão de lista\n",
        "\n",
        "#TypeError                                 Traceback (most recent call last)\n",
        "#<ipython-input-13-631fdd513aaf> in <cell line: 1>()\n",
        "#----> 1 Autores_CC/3\n",
        "#\n",
        "#TypeError: unsupported operand type(s) for /: 'list' and 'int'"
      ],
      "metadata": {
        "id": "swup3X8xhZo-"
      },
      "execution_count": null,
      "outputs": []
    },
    {
      "cell_type": "code",
      "source": [
        "#contar elementos\n",
        "lista = [1, 10, 2, 10, 3, 10, 4, 5, 6]\n",
        "cont=0\n",
        "for i in range(len(lista)):\n",
        "    if lista[i]==10:\n",
        "      cont+=1\n",
        "print(cont)"
      ],
      "metadata": {
        "id": "KBJBLHwgh8U2",
        "colab": {
          "base_uri": "https://localhost:8080/"
        },
        "outputId": "3fcd9178-5622-4901-d814-141faa0e96fd"
      },
      "execution_count": null,
      "outputs": [
        {
          "output_type": "stream",
          "name": "stdout",
          "text": [
            "3\n"
          ]
        }
      ]
    },
    {
      "cell_type": "code",
      "source": [
        "#inserir um elemento no final da lista\n",
        "lista=[1, 2, 3]\n",
        "lista.append(4)\n",
        "lista"
      ],
      "metadata": {
        "id": "LbTKGw67knDS",
        "colab": {
          "base_uri": "https://localhost:8080/"
        },
        "outputId": "8425f6c9-1f93-4076-8cd7-8199052727bc"
      },
      "execution_count": null,
      "outputs": [
        {
          "output_type": "execute_result",
          "data": {
            "text/plain": [
              "[1, 2, 3, 4]"
            ]
          },
          "metadata": {},
          "execution_count": 2
        }
      ]
    },
    {
      "cell_type": "code",
      "source": [
        "#concatenar duas listas\n",
        "lista1=[1, 2, 3, 4]\n",
        "lista2=[5, 6, 7]\n",
        "for i in range(len(lista2)):\n",
        "    lista1.append(lista2[i])\n",
        "print(lista1)"
      ],
      "metadata": {
        "colab": {
          "base_uri": "https://localhost:8080/"
        },
        "id": "yjt8pMnik425",
        "outputId": "62a220a7-b597-4ec6-9a27-fe88f5ac8570"
      },
      "execution_count": null,
      "outputs": [
        {
          "output_type": "stream",
          "name": "stdout",
          "text": [
            "[1, 2, 3, 4, 5, 6, 7]\n"
          ]
        }
      ]
    },
    {
      "cell_type": "code",
      "source": [
        "#concatenar duas listas\n",
        "lista1=[1, 2, 3, 4]\n",
        "lista2=[5, 6, 7]\n",
        "lista1=lista1+lista2\n",
        "print(lista1)"
      ],
      "metadata": {
        "colab": {
          "base_uri": "https://localhost:8080/"
        },
        "id": "z0yt7ZPlrQxt",
        "outputId": "f89f2db1-7fb9-4274-fdc6-d69b9faeb460"
      },
      "execution_count": null,
      "outputs": [
        {
          "output_type": "stream",
          "name": "stdout",
          "text": [
            "[1, 2, 3, 4, 5, 6, 7]\n"
          ]
        }
      ]
    },
    {
      "cell_type": "code",
      "source": [
        "#inserir um elemento em uma determinada posição\n",
        "lista=[1, 2, 3, 4]\n",
        "lista.append(0)\n",
        "pos=2\n",
        "#abre espaço para inserir o novo elemento\n",
        "for i in range(len(lista)-1, pos-1, -1):\n",
        "    lista[i]=lista[i-1]\n",
        "lista[pos]=10\n",
        "print(lista)"
      ],
      "metadata": {
        "colab": {
          "base_uri": "https://localhost:8080/"
        },
        "id": "VRHzSp7krsaN",
        "outputId": "74b62232-8e7e-4880-f983-1a0043608636"
      },
      "execution_count": null,
      "outputs": [
        {
          "output_type": "stream",
          "name": "stdout",
          "text": [
            "[1, 2, 10, 3, 4]\n"
          ]
        }
      ]
    },
    {
      "cell_type": "code",
      "source": [
        "#inserir um elemento em uma determinada posição\n",
        "lista=[1, 2, 3, 4]\n",
        "lista.insert(-1,10)\n",
        "print(lista)"
      ],
      "metadata": {
        "colab": {
          "base_uri": "https://localhost:8080/"
        },
        "id": "2DfPc2a7sUrl",
        "outputId": "3a5f66b7-d43d-4e37-eabd-5dbb7c15ff62"
      },
      "execution_count": null,
      "outputs": [
        {
          "output_type": "stream",
          "name": "stdout",
          "text": [
            "[1, 2, 3, 10, 4]\n"
          ]
        }
      ]
    },
    {
      "cell_type": "code",
      "source": [
        "# prompt: #excluir um elemento\n",
        "\n",
        "lista=[1, 2, 3, 4]\n",
        "pos=2\n",
        "temp=[]\n",
        "for i in range(len(lista)):\n",
        "    if i !=pos:  #!= diferente\n",
        "        temp.append(lista[i])\n",
        "lista=temp\n",
        "print(lista)"
      ],
      "metadata": {
        "colab": {
          "base_uri": "https://localhost:8080/"
        },
        "id": "mAJ9IiUuu6AC",
        "outputId": "98df56c7-f468-4664-e055-ae88f87aead4"
      },
      "execution_count": null,
      "outputs": [
        {
          "output_type": "stream",
          "name": "stdout",
          "text": [
            "[1, 2, 4]\n"
          ]
        }
      ]
    },
    {
      "cell_type": "code",
      "source": [
        "#excluir um elemento\n",
        "lista=[1, 2, 3, 4]\n",
        "lista.pop(2)\n",
        "print(lista)"
      ],
      "metadata": {
        "colab": {
          "base_uri": "https://localhost:8080/"
        },
        "id": "ARtwqKtgujVL",
        "outputId": "0c6749d6-6cb5-495e-eda9-c8ef6cdf1eab"
      },
      "execution_count": null,
      "outputs": [
        {
          "output_type": "stream",
          "name": "stdout",
          "text": [
            "[1, 2, 4]\n"
          ]
        }
      ]
    },
    {
      "cell_type": "code",
      "source": [
        "#excluir um elemento\n",
        "lista=[1, 4, 5, 6, 4, 7]\n",
        "lista.remove(4)\n",
        "print(lista)"
      ],
      "metadata": {
        "colab": {
          "base_uri": "https://localhost:8080/"
        },
        "id": "bNYRTG7Mvpdx",
        "outputId": "c4ebf9f8-0cf8-43b0-a719-558e5271cb1b"
      },
      "execution_count": null,
      "outputs": [
        {
          "output_type": "stream",
          "name": "stdout",
          "text": [
            "[1, 5, 6, 4, 7]\n"
          ]
        }
      ]
    },
    {
      "cell_type": "code",
      "source": [
        "#Ordenar uma lista\n",
        "lista=[10, 8, 6, 4, 2, 1, 11, 9, 7, 5, 3]\n",
        "lista_ordenada=[]\n",
        "tam=len(lista)\n",
        "for i in range(tam):\n",
        "    menor=lista[0]\n",
        "    for j in range(len(lista)):\n",
        "        if lista[j]<menor:\n",
        "            menor=lista[j]\n",
        "            pos_menor=j\n",
        "    lista_ordenada.append(menor)\n",
        "    lista.remove(menor)\n",
        "print(lista_ordenada)"
      ],
      "metadata": {
        "colab": {
          "base_uri": "https://localhost:8080/"
        },
        "id": "-ZbVsUwZxi7f",
        "outputId": "55dbebe1-d03a-4d2c-ebb2-b550df7b4ce1"
      },
      "execution_count": null,
      "outputs": [
        {
          "output_type": "stream",
          "name": "stdout",
          "text": [
            "[1, 2, 3, 4, 5, 6, 7, 8, 9, 10, 11]\n"
          ]
        }
      ]
    },
    {
      "cell_type": "code",
      "source": [
        "#o \"sort()\" altera a ordem dos elementos na lista original.\n",
        "#O método \"sorted()\" cria uma nova lista ao realizar uma cópia da lista original e então ordena essa nova lista, sem afetar a lista original.\n",
        "#Ordenar uma lista\n",
        "lista=[10, 8, 6, 4, 2, 1, 11, 9, 7, 5, 3]\n",
        "lista.sort()\n",
        "print(lista)"
      ],
      "metadata": {
        "colab": {
          "base_uri": "https://localhost:8080/"
        },
        "id": "rJaaXwdAxcl4",
        "outputId": "c9cc36f5-2784-4ce8-d861-a50932967a79"
      },
      "execution_count": null,
      "outputs": [
        {
          "output_type": "stream",
          "name": "stdout",
          "text": [
            "[1, 2, 3, 4, 5, 6, 7, 8, 9, 10, 11]\n"
          ]
        }
      ]
    },
    {
      "cell_type": "code",
      "source": [
        "#reverse\n",
        "lista=[1, 2, 3, 4, 5, 6, 7, 8, 9, 10, 11]\n",
        "lista.reverse()\n",
        "print(lista)"
      ],
      "metadata": {
        "colab": {
          "base_uri": "https://localhost:8080/"
        },
        "id": "m-JNheDZzIyS",
        "outputId": "6b36f978-0415-4123-db66-084f617c6b7b"
      },
      "execution_count": null,
      "outputs": [
        {
          "output_type": "stream",
          "name": "stdout",
          "text": [
            "[10, 9, 8, 7, 6, 5, 4, 3, 2, 1]\n"
          ]
        }
      ]
    },
    {
      "cell_type": "markdown",
      "source": [
        "**RASCUNHO - SIMULADO**"
      ],
      "metadata": {
        "id": "HmFfbJPt2f5W"
      }
    },
    {
      "cell_type": "code",
      "source": [
        "#Qual é a saída do código abaixo?\n",
        "\n",
        "tupla = (10, 20, 30)\n",
        "print(tupla[1])"
      ],
      "metadata": {
        "colab": {
          "base_uri": "https://localhost:8080/"
        },
        "id": "FdDFh9v12i8g",
        "outputId": "3c5f59fa-087c-4a98-9df5-15695030e581"
      },
      "execution_count": null,
      "outputs": [
        {
          "output_type": "stream",
          "name": "stdout",
          "text": [
            "20\n"
          ]
        }
      ]
    },
    {
      "cell_type": "code",
      "source": [
        "#Qual será a saída do seguinte código?\n",
        "\n",
        "x = 4\n",
        "y = 3\n",
        "print(x % y)"
      ],
      "metadata": {
        "colab": {
          "base_uri": "https://localhost:8080/"
        },
        "id": "cc6_BY9r2lAz",
        "outputId": "9c63aa8d-cbb3-4791-a56e-53155673f561"
      },
      "execution_count": null,
      "outputs": [
        {
          "output_type": "stream",
          "name": "stdout",
          "text": [
            "1\n"
          ]
        }
      ]
    },
    {
      "cell_type": "code",
      "source": [
        "#Qual será a saída do seguinte código?\n",
        "\n",
        "for i in range(1, 5):\n",
        "    if i == 3:\n",
        "        continue\n",
        "    print(i)"
      ],
      "metadata": {
        "colab": {
          "base_uri": "https://localhost:8080/"
        },
        "id": "osrm-twv2oHF",
        "outputId": "8041831e-a7b8-4c86-d6ed-8ba96e2ce5cf"
      },
      "execution_count": null,
      "outputs": [
        {
          "output_type": "stream",
          "name": "stdout",
          "text": [
            "1\n",
            "2\n",
            "4\n"
          ]
        }
      ]
    },
    {
      "cell_type": "code",
      "source": [
        "#Qual será a saída do seguinte código?\n",
        "\n",
        "x = [1, 2, 3]\n",
        "y = x\n",
        "y.append(4)\n",
        "print(x)"
      ],
      "metadata": {
        "colab": {
          "base_uri": "https://localhost:8080/"
        },
        "id": "QUZYVgP429ei",
        "outputId": "23dbe331-3ebe-4ca6-905c-efb758807dd3"
      },
      "execution_count": null,
      "outputs": [
        {
          "output_type": "stream",
          "name": "stdout",
          "text": [
            "[1, 2, 3, 4]\n"
          ]
        }
      ]
    },
    {
      "cell_type": "code",
      "source": [
        "#Qual é a saída do seguinte código?\n",
        "\n",
        "lista = [10, 20, 30, 40, 50]\n",
        "sublista = lista[1:4]\n",
        "print(sublista)"
      ],
      "metadata": {
        "colab": {
          "base_uri": "https://localhost:8080/"
        },
        "id": "aPgPzlOO3CNB",
        "outputId": "5fbc4962-7c0b-4f0f-bd1f-9ee28e527881"
      },
      "execution_count": null,
      "outputs": [
        {
          "output_type": "stream",
          "name": "stdout",
          "text": [
            "[20, 30, 40]\n"
          ]
        }
      ]
    },
    {
      "cell_type": "code",
      "source": [
        "#Qual das seguintes opções verifica corretamente se a variável 'num' está entre 10 e 20, inclusive?\n",
        "\n",
        "num = 15\n",
        "num >= 10 and num <= 20"
      ],
      "metadata": {
        "colab": {
          "base_uri": "https://localhost:8080/"
        },
        "id": "gHlRpZ0N2_B9",
        "outputId": "b81715f6-e52a-44d0-a1c5-19fcd761ec2c"
      },
      "execution_count": null,
      "outputs": [
        {
          "output_type": "execute_result",
          "data": {
            "text/plain": [
              "True"
            ]
          },
          "metadata": {},
          "execution_count": 63
        }
      ]
    },
    {
      "cell_type": "code",
      "source": [
        "#Qual é a saída do código abaixo?\n",
        "\n",
        "for i in range(3):\n",
        "    print(i)"
      ],
      "metadata": {
        "colab": {
          "base_uri": "https://localhost:8080/"
        },
        "id": "IObvvTD84phE",
        "outputId": "eea9eb02-1fbb-4ff4-9225-e613655830c6"
      },
      "execution_count": null,
      "outputs": [
        {
          "output_type": "stream",
          "name": "stdout",
          "text": [
            "0\n",
            "1\n",
            "2\n"
          ]
        }
      ]
    },
    {
      "cell_type": "code",
      "source": [
        "#Qual é o tipo da variável x após a execução do código abaixo?\n",
        "\n",
        "x = 10"
      ],
      "metadata": {
        "id": "MQGta3ez4t33"
      },
      "execution_count": null,
      "outputs": []
    },
    {
      "cell_type": "code",
      "source": [
        "#Qual será a saída do seguinte código?\n",
        "\n",
        "lista = [1, 2, 3, 4, 5]\n",
        "lista.pop(2)\n",
        "print(lista)"
      ],
      "metadata": {
        "colab": {
          "base_uri": "https://localhost:8080/"
        },
        "id": "696uk2rJ40TN",
        "outputId": "50d2c885-7da0-4225-b534-64ec387627ba"
      },
      "execution_count": null,
      "outputs": [
        {
          "output_type": "stream",
          "name": "stdout",
          "text": [
            "[1, 2, 4, 5]\n"
          ]
        }
      ]
    },
    {
      "cell_type": "code",
      "source": [
        "#Qual é a saída do código abaixo?\n",
        "\n",
        "x = 0\n",
        "while x < 5:\n",
        "    x += 1\n",
        "print(x)"
      ],
      "metadata": {
        "colab": {
          "base_uri": "https://localhost:8080/"
        },
        "id": "WCe2AEMs47i6",
        "outputId": "ac024f2e-d95b-4f14-850b-a9edad751a68"
      },
      "execution_count": null,
      "outputs": [
        {
          "output_type": "stream",
          "name": "stdout",
          "text": [
            "5\n"
          ]
        }
      ]
    },
    {
      "cell_type": "code",
      "source": [
        "#Qual será a saída do seguinte código?\n",
        "\n",
        "def func(x):\n",
        "    return x * 2\n",
        "\n",
        "result = func(5)\n",
        "print(result)"
      ],
      "metadata": {
        "colab": {
          "base_uri": "https://localhost:8080/"
        },
        "id": "NuD2z9S54_lx",
        "outputId": "7ba1a56f-9d75-416b-882e-c7a9d61c6303"
      },
      "execution_count": null,
      "outputs": [
        {
          "output_type": "stream",
          "name": "stdout",
          "text": [
            "10\n"
          ]
        }
      ]
    },
    {
      "cell_type": "code",
      "source": [
        "#Qual é a saída do seguinte código?\n",
        "\n",
        "x = 10\n",
        "y = 2\n",
        "print(x // y)"
      ],
      "metadata": {
        "colab": {
          "base_uri": "https://localhost:8080/"
        },
        "id": "y23erPz35DMq",
        "outputId": "eeb89348-fb27-4433-fffa-a27cfda1dba0"
      },
      "execution_count": null,
      "outputs": [
        {
          "output_type": "stream",
          "name": "stdout",
          "text": [
            "5\n"
          ]
        }
      ]
    },
    {
      "cell_type": "code",
      "source": [
        "#Qual é a saída do seguinte código?\n",
        "\n",
        "x = True\n",
        "y = False\n",
        "z = x or y\n",
        "print(z)"
      ],
      "metadata": {
        "colab": {
          "base_uri": "https://localhost:8080/"
        },
        "id": "Z3RcJg6G5YO3",
        "outputId": "6d0d8888-7bae-4f14-ad5d-1bc3f655480b"
      },
      "execution_count": null,
      "outputs": [
        {
          "output_type": "stream",
          "name": "stdout",
          "text": [
            "True\n"
          ]
        }
      ]
    },
    {
      "cell_type": "code",
      "source": [
        "#Qual será a saída do seguinte código?\n",
        "\n",
        "x = True\n",
        "y = False\n",
        "print(x and y)"
      ],
      "metadata": {
        "colab": {
          "base_uri": "https://localhost:8080/"
        },
        "id": "4KCJZnIC5loS",
        "outputId": "a7a465ac-b8ca-443a-e232-4a3143879e23"
      },
      "execution_count": null,
      "outputs": [
        {
          "output_type": "stream",
          "name": "stdout",
          "text": [
            "False\n"
          ]
        }
      ]
    },
    {
      "cell_type": "code",
      "source": [
        "#Qual é a saída do código abaixo?\n",
        "\n",
        "a = 5\n",
        "b = 3\n",
        "if a > b:\n",
        "    print(\"a é maior que b\")\n",
        "else:\n",
        "    print(\"b é maior ou igual a a\")"
      ],
      "metadata": {
        "colab": {
          "base_uri": "https://localhost:8080/"
        },
        "id": "HJVZ2On253wm",
        "outputId": "8f53fdc0-31f0-46cd-f330-f613032ebf11"
      },
      "execution_count": null,
      "outputs": [
        {
          "output_type": "stream",
          "name": "stdout",
          "text": [
            "a é maior que b\n"
          ]
        }
      ]
    },
    {
      "cell_type": "code",
      "source": [
        "#Qual será a saída do seguinte código?\n",
        "\n",
        "a = 5\n",
        "b = 2\n",
        "print(a + b * 3)"
      ],
      "metadata": {
        "colab": {
          "base_uri": "https://localhost:8080/"
        },
        "id": "ClLNEdCD6CQD",
        "outputId": "be78279b-2762-4cc9-9221-854453f0c316"
      },
      "execution_count": null,
      "outputs": [
        {
          "output_type": "stream",
          "name": "stdout",
          "text": [
            "11\n"
          ]
        }
      ]
    },
    {
      "cell_type": "code",
      "source": [
        "#Qual será a saída do seguinte código?\n",
        "\n",
        "def soma(a, b):\n",
        "    return a + b\n",
        "\n",
        "resultado = soma(2, 3)\n",
        "print(resultado)"
      ],
      "metadata": {
        "colab": {
          "base_uri": "https://localhost:8080/"
        },
        "id": "So4pogHk6w2b",
        "outputId": "0ac20696-acd5-44be-ed8e-edf859a89e48"
      },
      "execution_count": null,
      "outputs": [
        {
          "output_type": "stream",
          "name": "stdout",
          "text": [
            "5\n"
          ]
        }
      ]
    },
    {
      "cell_type": "code",
      "source": [
        "#Qual será a saída do seguinte código?\n",
        "\n",
        "lista = [1, 2, 3, 4, 5]\n",
        "print(lista[2])"
      ],
      "metadata": {
        "colab": {
          "base_uri": "https://localhost:8080/"
        },
        "id": "Tyt016xK6-nn",
        "outputId": "4976c59d-e4c4-496d-8c6f-44e64f8b584f"
      },
      "execution_count": null,
      "outputs": [
        {
          "output_type": "stream",
          "name": "stdout",
          "text": [
            "3\n"
          ]
        }
      ]
    },
    {
      "cell_type": "code",
      "source": [
        "#A seguinte linha de código cria uma variável x com valor 10.\n",
        "\n",
        "x == 10"
      ],
      "metadata": {
        "id": "X_8TtAma7EFW"
      },
      "execution_count": null,
      "outputs": []
    },
    {
      "cell_type": "code",
      "source": [
        "#O seguinte código entrará em um loop infinito.\n",
        "\n",
        "while False:\n",
        "    print(\"Loop infinito\")"
      ],
      "metadata": {
        "id": "unNTrNt7biZH"
      },
      "execution_count": null,
      "outputs": []
    },
    {
      "cell_type": "code",
      "source": [
        "#A função len() pode ser usada para obter o comprimento de uma lista ou de uma tupla.\n",
        "#A função len() retorna o número de itens contidos na lista ou tupla fornecida.\n"
      ],
      "metadata": {
        "id": "mEaE9tKibsoH"
      },
      "execution_count": null,
      "outputs": []
    },
    {
      "cell_type": "code",
      "source": [
        "minha_tupla = (1, 2, 3)\n",
        "\n",
        "# Tentando alterar um elemento da tupla\n",
        "try:\n",
        "    minha_tupla[0] = 10\n",
        "except TypeError as e:\n",
        "    print(f\"Erro: {e}\")  # Saída: Erro: 'tuple' object does not support item assignment\n",
        "\n",
        "# Tentando adicionar um elemento à tupla\n",
        "try:\n",
        "    minha_tupla.append(4)\n",
        "except AttributeError as e:\n",
        "    print(f\"Erro: {e}\")  # Saída: Erro: 'tuple' object has no attribute 'append'\n"
      ],
      "metadata": {
        "id": "jvI0uAsmcKhp"
      },
      "execution_count": null,
      "outputs": []
    },
    {
      "cell_type": "code",
      "source": [
        "#O operador // é usado para realizar a divisão inteira em Python.\n",
        "\n",
        "\n",
        "#Sim, o operador // é usado para realizar a divisão inteira em Python.\n",
        "10//3"
      ],
      "metadata": {
        "colab": {
          "base_uri": "https://localhost:8080/"
        },
        "id": "YZshWaLFceC4",
        "outputId": "ad6c5fff-7a7a-4559-86ff-e84840b144db"
      },
      "execution_count": null,
      "outputs": [
        {
          "output_type": "execute_result",
          "data": {
            "text/plain": [
              "3"
            ]
          },
          "metadata": {},
          "execution_count": 9
        }
      ]
    },
    {
      "cell_type": "code",
      "source": [
        "#A expressão 3 > 2 and 2 < 5 avalia para False.\n",
        "\n",
        "\n",
        "3 > 2 and 2 < 5\n"
      ],
      "metadata": {
        "colab": {
          "base_uri": "https://localhost:8080/"
        },
        "id": "81XK_onec7uu",
        "outputId": "71acdc6a-68d9-4ae9-c1ba-0bef74618a1a"
      },
      "execution_count": null,
      "outputs": [
        {
          "output_type": "execute_result",
          "data": {
            "text/plain": [
              "True"
            ]
          },
          "metadata": {},
          "execution_count": 10
        }
      ]
    },
    {
      "cell_type": "code",
      "source": [
        "#O código abaixo imprimirá 'False'.\n",
        "\n",
        "x = 5\n",
        "y = 10\n",
        "print(x == y)"
      ],
      "metadata": {
        "colab": {
          "base_uri": "https://localhost:8080/"
        },
        "id": "_1xdkSELdDK5",
        "outputId": "55962113-cbec-4da3-8e0f-0b22410c61b8"
      },
      "execution_count": null,
      "outputs": [
        {
          "output_type": "stream",
          "name": "stdout",
          "text": [
            "False\n"
          ]
        }
      ]
    },
    {
      "cell_type": "code",
      "source": [
        "#O código a seguir adiciona o elemento 4 à lista 'lista'.\n",
        "\n",
        "lista = [1, 2, 3]\n",
        "lista.append(4)\n"
      ],
      "metadata": {
        "colab": {
          "base_uri": "https://localhost:8080/"
        },
        "id": "VJWyyhQCdP9Z",
        "outputId": "44c3f269-bbe2-48fb-c356-29ccf4234b22"
      },
      "execution_count": null,
      "outputs": [
        {
          "output_type": "execute_result",
          "data": {
            "text/plain": [
              "[1, 2, 3, 4]"
            ]
          },
          "metadata": {},
          "execution_count": 14
        }
      ]
    },
    {
      "cell_type": "code",
      "source": [
        "# Você pode criar uma lista usando colchetes [] e separando os elementos por vírgulas.\n",
        "\n",
        "# Criando uma lista de números\n",
        "numeros = [1, 2, 3, 4, 5]"
      ],
      "metadata": {
        "id": "lJgSBJpVggpQ"
      },
      "execution_count": null,
      "outputs": []
    },
    {
      "cell_type": "code",
      "source": [
        "# Criando uma lista de strings\n",
        "frutas = [\"maçã\", \"banana\", \"cereja\"]\n",
        "# Acessando o primeiro elemento\n",
        "print(frutas[0])  # Saída: maçã\n",
        "# Acessando o segundo elemento\n",
        "print(frutas[1])  # Saída: banana\n",
        "# Modificando o segundo elemento\n",
        "frutas[1] = \"laranja\"\n",
        "print(frutas)  # Saída: ['maçã', 'laranja', 'cereja']\n",
        "\n",
        "#Usando o método .append() para adicionar um único elemento ao final da lista.\n",
        "#Usando o método .insert() para adicionar um elemento em uma posição específica.\n",
        "#Usando o método .extend() para adicionar múltiplos elementos ao final da lista.\n",
        "\n",
        "# Usando append\n",
        "frutas.append(\"morango\")\n",
        "print(frutas)  # Saída: ['maçã', 'laranja', 'cereja', 'morango']\n",
        "# Usando insert\n",
        "frutas.insert(1, \"abacaxi\")\n",
        "print(frutas)  # Saída: ['maçã', 'abacaxi', 'laranja', 'cereja', 'morango']\n",
        "# Usando extend\n",
        "frutas.extend([\"melancia\", \"uva\"])\n",
        "print(frutas)  # Saída: ['maçã', 'abacaxi', 'laranja', 'cereja', 'morango', 'melancia', 'uva']\n",
        "\n",
        "#Usando o método remove() para remover a primeira ocorrência de um valor específico.\n",
        "#Usando o método pop() para remover um elemento em uma posição específica (ou o #último elemento, se nenhum índice for especificado).\n",
        "#Usando a palavra-chave del para remover um elemento por índice ou a lista inteira.\n",
        "# Usando remove\n",
        "frutas.remove(\"laranja\")\n",
        "print(frutas)  # Saída: ['maçã', 'abacaxi', 'cereja', 'morango', 'melancia', 'uva']\n",
        "# Usando pop\n",
        "frutas.pop(2)\n",
        "print(frutas)  # Saída: ['maçã', 'abacaxi', 'morango', 'melancia', 'uva']\n",
        "\n",
        "# Usando del\n",
        "del frutas[1]\n",
        "print(frutas)  # Saída: ['maçã', 'morango', 'melancia', 'uva']\n"
      ],
      "metadata": {
        "colab": {
          "base_uri": "https://localhost:8080/"
        },
        "id": "j-WKANxdj6w0",
        "outputId": "0eefab89-3c50-4020-91c3-f38537a9233b"
      },
      "execution_count": null,
      "outputs": [
        {
          "output_type": "stream",
          "name": "stdout",
          "text": [
            "maçã\n",
            "banana\n",
            "['maçã', 'laranja', 'cereja']\n",
            "['maçã', 'laranja', 'cereja', 'morango']\n",
            "['maçã', 'abacaxi', 'laranja', 'cereja', 'morango']\n",
            "['maçã', 'abacaxi', 'laranja', 'cereja', 'morango', 'melancia', 'uva']\n",
            "['maçã', 'abacaxi', 'cereja', 'morango', 'melancia', 'uva']\n",
            "['maçã', 'abacaxi', 'morango', 'melancia', 'uva']\n",
            "['maçã', 'morango', 'melancia', 'uva']\n"
          ]
        }
      ]
    },
    {
      "cell_type": "code",
      "source": [
        "# Você pode criar uma lista usando colchetes [] e separando os elementos por vírgulas.\n",
        "\n",
        "# Criando uma lista de números\n",
        "numeros = [1, 2, 3, 4, 5]\n",
        "\n",
        "# Criando uma lista de strings\n",
        "frutas = [\"maçã\", \"banana\", \"cereja\"]\n",
        "\n",
        "# Criando uma lista mista\n",
        "mista = [1, \"banana\", 3.5]\n",
        "\n",
        "# Acessando o primeiro elemento\n",
        "print(frutas[0])  # Saída: maçã\n",
        "\n",
        "# Acessando o segundo elemento\n",
        "print(frutas[1])  # Saída: banana\n",
        "\n",
        "# Modificando o segundo elemento\n",
        "frutas[1] = \"laranja\"\n",
        "print(frutas)  # Saída: ['maçã', 'laranja', 'cereja']\n",
        "\n",
        "\n",
        "#Usando o método .append() para adicionar um único elemento ao final da lista.\n",
        "#Usando o método .insert() para adicionar um elemento em uma posição específica.\n",
        "#Usando o método .extend() para adicionar múltiplos elementos ao final da lista.\n",
        "\n",
        "# Usando append\n",
        "frutas.append(\"morango\")\n",
        "print(frutas)  # Saída: ['maçã', 'laranja', 'cereja', 'morango']\n",
        "\n",
        "# Usando insert\n",
        "frutas.insert(1, \"abacaxi\")\n",
        "print(frutas)  # Saída: ['maçã', 'abacaxi', 'laranja', 'cereja', 'morango']\n",
        "\n",
        "# Usando extend\n",
        "frutas.extend([\"melancia\", \"uva\"])\n",
        "print(frutas)  # Saída: ['maçã', 'abacaxi', 'laranja', 'cereja', 'morango', 'melancia', 'uva']\n",
        "\n",
        "#Usando o método remove() para remover a primeira ocorrência de um valor específico.\n",
        "#Usando o método pop() para remover um elemento em uma posição específica (ou o #último elemento, se nenhum índice for especificado).\n",
        "#Usando a palavra-chave del para remover um elemento por índice ou a lista inteira.\n",
        "\n",
        "\n",
        "# Usando remove\n",
        "frutas.remove(\"laranja\")\n",
        "print(frutas)  # Saída: ['maçã', 'abacaxi', 'cereja', 'morango', 'melancia', 'uva']\n",
        "\n",
        "# Usando pop\n",
        "frutas.pop(2)\n",
        "print(frutas)  # Saída: ['maçã', 'abacaxi', 'morango', 'melancia', 'uva']\n",
        "\n",
        "# Usando del\n",
        "del frutas[1]\n",
        "print(frutas)  # Saída: ['maçã', 'morango', 'melancia', 'uva']\n",
        "\n"
      ],
      "metadata": {
        "id": "rb0ZvgmUkzxL",
        "outputId": "0e01cdba-556c-4d09-8b45-3afe5d49341b",
        "colab": {
          "base_uri": "https://localhost:8080/"
        }
      },
      "execution_count": null,
      "outputs": [
        {
          "output_type": "stream",
          "name": "stdout",
          "text": [
            "maçã\n",
            "banana\n",
            "['maçã', 'laranja', 'cereja']\n",
            "['maçã', 'laranja', 'cereja', 'morango']\n",
            "['maçã', 'abacaxi', 'laranja', 'cereja', 'morango']\n",
            "['maçã', 'abacaxi', 'laranja', 'cereja', 'morango', 'melancia', 'uva']\n",
            "['maçã', 'abacaxi', 'cereja', 'morango', 'melancia', 'uva']\n",
            "['maçã', 'abacaxi', 'morango', 'melancia', 'uva']\n",
            "['maçã', 'morango', 'melancia', 'uva']\n"
          ]
        }
      ]
    },
    {
      "cell_type": "markdown",
      "source": [
        "**Video Aula**"
      ],
      "metadata": {
        "id": "ehPey_3cBfZf"
      }
    },
    {
      "cell_type": "code",
      "source": [
        "\n",
        "#Lista na prática\n",
        "#Questão 1 Soma dos elementos de uma lista\n",
        "# Problema: Dada uma lista de números, calcule a soma de seus elementos.\n",
        "numeros = [1, 2, 3, 4, 5]\n",
        "soma = 0\n",
        "for numero in numeros:   # o \"i\" ou \"numero\" representa uma iteração de um valor qualquer\n",
        "    soma += numero\n",
        "print(soma)"
      ],
      "metadata": {
        "id": "4Up4VFAdA78q"
      },
      "execution_count": null,
      "outputs": []
    },
    {
      "cell_type": "code",
      "source": [
        "numeros = [1, 2, 3, 4, 5]\n",
        "soma=sum(numeros)\n",
        "print(soma)"
      ],
      "metadata": {
        "id": "SJDqFN5FA-hR"
      },
      "execution_count": null,
      "outputs": []
    },
    {
      "cell_type": "code",
      "source": [
        "#Definindo a lista 1 (1º passo)\n",
        "#Definindo a lista 2 (2º passo)\n",
        "#Concatenar é realizar a soma de dois elementos (3º passo)\n",
        "#Questão 2: Problema: concatene duas listas\n",
        "lista1 = [1, 2, 3]\n",
        "lista2 = [4, 5, 6]\n",
        "lista3 = lista1 + lista2\n",
        "print(\"O resultado da concatencação é: \", lista3)"
      ],
      "metadata": {
        "id": "zBJbHBSnBBYv"
      },
      "execution_count": null,
      "outputs": []
    },
    {
      "cell_type": "code",
      "source": [
        "#Problema: Encontrar o maior e o menos elemento de uma lista de números.\n",
        "#Definir a lista de números\n",
        "Lista=[3,1,5,7,8,9,0,3,6,5,7]\n",
        "#Questão 3: Encontra o maior e o menor número\n",
        "maior=max(Lista) # o max atribui a condição de maior valor para a Lista de números\n",
        "menor=min(Lista) # o min atribui a condição de menor valor para a Lista de números\n",
        "print(\"O maior número é: \", maior)\n",
        "print(\"O menor número é: \", menor)"
      ],
      "metadata": {
        "id": "sUg84sa3BB_M"
      },
      "execution_count": null,
      "outputs": []
    },
    {
      "cell_type": "code",
      "source": [
        "#Contar quantas ocorrências de um elemento dentro de uma lista\n",
        "#Questão 5: Problema: Conte quantas vezes um determinado elemento aparece em uma lista\n",
        "#Definindo a lista de números (1º passo)\n",
        "Lista_de_numeros=[33,55,6,7,8,9,33,7,5,9]\n",
        "elemento=33\n",
        "ocorrencias=Lista_de_numeros.count(elemento)\n",
        "print(\"O número de ocorrências do elemento é: \", ocorrencias)"
      ],
      "metadata": {
        "colab": {
          "base_uri": "https://localhost:8080/"
        },
        "id": "y0t-H7CoBGoo",
        "outputId": "b9da9307-92a0-45ef-c19d-0398f04bc888"
      },
      "execution_count": null,
      "outputs": [
        {
          "output_type": "stream",
          "name": "stdout",
          "text": [
            "O número de ocorrências do elemento é:  2\n"
          ]
        }
      ]
    },
    {
      "cell_type": "code",
      "source": [
        "#Verificar se uma lista está vazia\n",
        "#Questão5: Problema: verificar se uma lista está vazia\n",
        "Lista_qualquer=[\"João\", \"Vinicius\"] #Python é uma linguagem interpretada\n",
        "if Lista_qualquer:\n",
        "    print(\"A lista não está vazia, e tem o seguinte quantitativo de elementos: \")\n",
        "else:\n",
        "    print(\"A lista está vazia\")\n",
        "len(Lista_qualquer)"
      ],
      "metadata": {
        "id": "uLVqCxrsBIhq"
      },
      "execution_count": null,
      "outputs": []
    },
    {
      "cell_type": "code",
      "source": [
        "#Clonar uma lista\n",
        "#Questão 6: Problema: Crie uma cópia de uma lista\n",
        "#Definir a lista\n",
        "Lista_nomes=[\"nome1\", \"idade1\", \"nome2\", \"idade2\"]\n",
        "#clonando a lista\n",
        "copia_Lista_nomes=Lista_nomes.copy() #O copy() é o método para clonar ou copiar a lista\n",
        "print(copia_Lista_nomes)"
      ],
      "metadata": {
        "id": "bLtX58X5BKRG"
      },
      "execution_count": null,
      "outputs": []
    },
    {
      "cell_type": "code",
      "source": [
        "#ordenar uma lista\n",
        "#Questão7: Problema: ordene uma lista de números em ordem\n",
        "#Definindo a lista de números\n",
        "Lista_num=[2,376, 784,866, 52525, 72, 0]\n",
        "#ornendo a lista\n",
        "Lista_num.sort() # o método sort ordena lista\n",
        "print(Lista_num)"
      ],
      "metadata": {
        "id": "swxIHE6_BMow"
      },
      "execution_count": null,
      "outputs": []
    },
    {
      "cell_type": "code",
      "source": [
        "#Inverter a ordem dos elementos de uma lista\n",
        "#Questão8: Problema: Inverta a ordem dos elementos de uma lista\n",
        "#Definindo a lista de números\n",
        "Lista_num=[2,376, 784,866, 52525, 72, 0]\n",
        "#Invertendo a ordem dos elementos\n",
        "Lista_num.reverse() #reverse é o método para inverter a ordem dos elementos em uma lista\n",
        "print(Lista_num)"
      ],
      "metadata": {
        "id": "HK7aOMFPBOTH"
      },
      "execution_count": null,
      "outputs": []
    },
    {
      "cell_type": "code",
      "source": [
        "#Encontra a média dos elementos de uma lista\n",
        "#Questão9: Problema: Calcule a média dos elementos de uma lista de números.\n",
        "#Definir a lista de números (1º passo)\n",
        "Lista_num=[2,376, 784, 866, 52525, 72, 0]\n",
        "#Média dos elementos\n",
        "media=sum(Lista_num)/len(Lista_num) #1ª cria a variável media, 2º somo os valores, e divide pela quantidade (len) dos elementos.\n",
        "print(\"A média da soma foi: \", media, \"e a quantidade de elementos na lista foi: \")"
      ],
      "metadata": {
        "id": "mMYR-ChxBPyb"
      },
      "execution_count": null,
      "outputs": []
    },
    {
      "cell_type": "code",
      "source": [
        "#Lista: Para praticar os exercícios da Apostila (Vale 1,0 ponto)\n",
        "#ex.:\n",
        "L = [1, 4.5, \"abc\" , 3 + 4j, [1, 2, 3, 4]]\n",
        "L[2]\n"
      ],
      "metadata": {
        "colab": {
          "base_uri": "https://localhost:8080/",
          "height": 35
        },
        "id": "tJdLr9RQBRFi",
        "outputId": "b3c39ba7-5105-4efe-c960-d17ccc4538d0"
      },
      "execution_count": null,
      "outputs": [
        {
          "output_type": "execute_result",
          "data": {
            "text/plain": [
              "'abc'"
            ],
            "application/vnd.google.colaboratory.intrinsic+json": {
              "type": "string"
            }
          },
          "metadata": {},
          "execution_count": 2
        }
      ]
    },
    {
      "cell_type": "markdown",
      "source": [
        "**Lista: Para praticar os exercícios da Apostila (Vale 1,0 ponto)**"
      ],
      "metadata": {
        "id": "LjiXeeNUczr4"
      }
    },
    {
      "cell_type": "code",
      "source": [
        "#7.1\n",
        "x = [10, 5, 11, 0, 3]\n",
        "x\n",
        "x[0]\n",
        "x[4]"
      ],
      "metadata": {
        "colab": {
          "base_uri": "https://localhost:8080/"
        },
        "id": "Y8IiDfLLc2dQ",
        "outputId": "176b3a36-829f-4bdb-9e4b-dd88bc725d31"
      },
      "execution_count": null,
      "outputs": [
        {
          "output_type": "execute_result",
          "data": {
            "text/plain": [
              "3"
            ]
          },
          "metadata": {},
          "execution_count": 9
        }
      ]
    },
    {
      "cell_type": "code",
      "source": [
        "L = [1, 4.5, \"abc\" , 3 + 4j, [1, 2, 3, 4]]\n",
        "L[2] = 5\n",
        "L[4] = 5\n",
        "L\n"
      ],
      "metadata": {
        "colab": {
          "base_uri": "https://localhost:8080/"
        },
        "id": "uTGBqyAgdkyZ",
        "outputId": "2a5f7d38-f75e-40a1-addd-d80b15b4c95f"
      },
      "execution_count": null,
      "outputs": [
        {
          "output_type": "execute_result",
          "data": {
            "text/plain": [
              "[1, 4.5, 5, (3+4j), 5]"
            ]
          },
          "metadata": {},
          "execution_count": 11
        }
      ]
    },
    {
      "cell_type": "code",
      "source": [
        "A = [1, 2, 3]; B = [4, 5, 6]\n",
        "C = A + B\n",
        "C\n",
        "C += [7] # equivale a C = C + [7]\n",
        "C\n",
        "\n",
        "C.append(\"abc \")\n",
        "C"
      ],
      "metadata": {
        "colab": {
          "base_uri": "https://localhost:8080/"
        },
        "id": "Cj-N6xDndwZH",
        "outputId": "46d83318-b00d-46b2-9e69-3ef24d81d2bd"
      },
      "execution_count": null,
      "outputs": [
        {
          "output_type": "execute_result",
          "data": {
            "text/plain": [
              "[1, 2, 3, 4, 5, 6, 7, 'abc ']"
            ]
          },
          "metadata": {},
          "execution_count": 15
        }
      ]
    },
    {
      "cell_type": "code",
      "source": [
        "L = [ 1, 4.5, \"abc\" , 3 + 4j, [1, 2, 3, 4]]\n",
        "L\n",
        "\n",
        "L[4]\n",
        "\n",
        "L[4][0]"
      ],
      "metadata": {
        "colab": {
          "base_uri": "https://localhost:8080/"
        },
        "id": "tuId6raJd_ss",
        "outputId": "213f9630-16e2-43dd-d040-d050ba8c104a"
      },
      "execution_count": null,
      "outputs": [
        {
          "output_type": "execute_result",
          "data": {
            "text/plain": [
              "1"
            ]
          },
          "metadata": {},
          "execution_count": 17
        }
      ]
    },
    {
      "cell_type": "code",
      "source": [
        "dir(list)"
      ],
      "metadata": {
        "colab": {
          "base_uri": "https://localhost:8080/"
        },
        "id": "79ZiuH4PeQxe",
        "outputId": "b8517228-8759-42e8-f0f7-6b6a61e40ad0"
      },
      "execution_count": null,
      "outputs": [
        {
          "output_type": "execute_result",
          "data": {
            "text/plain": [
              "['__add__',\n",
              " '__class__',\n",
              " '__class_getitem__',\n",
              " '__contains__',\n",
              " '__delattr__',\n",
              " '__delitem__',\n",
              " '__dir__',\n",
              " '__doc__',\n",
              " '__eq__',\n",
              " '__format__',\n",
              " '__ge__',\n",
              " '__getattribute__',\n",
              " '__getitem__',\n",
              " '__gt__',\n",
              " '__hash__',\n",
              " '__iadd__',\n",
              " '__imul__',\n",
              " '__init__',\n",
              " '__init_subclass__',\n",
              " '__iter__',\n",
              " '__le__',\n",
              " '__len__',\n",
              " '__lt__',\n",
              " '__mul__',\n",
              " '__ne__',\n",
              " '__new__',\n",
              " '__reduce__',\n",
              " '__reduce_ex__',\n",
              " '__repr__',\n",
              " '__reversed__',\n",
              " '__rmul__',\n",
              " '__setattr__',\n",
              " '__setitem__',\n",
              " '__sizeof__',\n",
              " '__str__',\n",
              " '__subclasshook__',\n",
              " 'append',\n",
              " 'clear',\n",
              " 'copy',\n",
              " 'count',\n",
              " 'extend',\n",
              " 'index',\n",
              " 'insert',\n",
              " 'pop',\n",
              " 'remove',\n",
              " 'reverse',\n",
              " 'sort']"
            ]
          },
          "metadata": {},
          "execution_count": 18
        }
      ]
    },
    {
      "cell_type": "code",
      "source": [
        "# append() Adiciona elementos a lista:\n",
        "x = [1, 2, 3]\n",
        "x.append (4)\n",
        "x"
      ],
      "metadata": {
        "colab": {
          "base_uri": "https://localhost:8080/"
        },
        "id": "U3sZkeqUeSAf",
        "outputId": "3ccaf2f3-86ac-435a-a71b-8ec00409c3ca"
      },
      "execution_count": null,
      "outputs": [
        {
          "output_type": "execute_result",
          "data": {
            "text/plain": [
              "[1, 2, 3, 4]"
            ]
          },
          "metadata": {},
          "execution_count": 19
        }
      ]
    },
    {
      "cell_type": "code",
      "source": [
        "# clear() Esvazia a lista:\n",
        "x = [1, 2, 3]\n",
        "x.clear ()\n",
        "x"
      ],
      "metadata": {
        "colab": {
          "base_uri": "https://localhost:8080/"
        },
        "id": "oEt8I6jLe7Iu",
        "outputId": "d4c66953-4a76-457a-9a41-068c03d0cc5d"
      },
      "execution_count": null,
      "outputs": [
        {
          "output_type": "execute_result",
          "data": {
            "text/plain": [
              "[]"
            ]
          },
          "metadata": {},
          "execution_count": 22
        }
      ]
    },
    {
      "cell_type": "code",
      "source": [
        "# count() Retorna quantas ocorrências há do argumento passado:\n",
        "x = [1, 2, 3, 3, 3, 3, 4]\n",
        "x.count (3)"
      ],
      "metadata": {
        "id": "jUYc4X_HeadM"
      },
      "execution_count": null,
      "outputs": []
    },
    {
      "cell_type": "code",
      "source": [
        "# index() Retorna o índice da primeira ocorrência do argumento passado:\n",
        "x = [1, 2, 3, 3, 3, 3, 4]\n",
        "x.index (3)"
      ],
      "metadata": {
        "colab": {
          "base_uri": "https://localhost:8080/"
        },
        "id": "ep7B6AYIe0yb",
        "outputId": "c7ed5946-f13f-44a9-fb1e-f123d90253d4"
      },
      "execution_count": null,
      "outputs": [
        {
          "output_type": "execute_result",
          "data": {
            "text/plain": [
              "2"
            ]
          },
          "metadata": {},
          "execution_count": 21
        }
      ]
    },
    {
      "cell_type": "code",
      "source": [
        "# insert() Insere na posição especificada um elemento:\n",
        "x = [\"a\", \"c\", \"d\"]\n",
        "x.insert (1, \"b\")\n",
        "x"
      ],
      "metadata": {
        "id": "WiBDs2SteitH"
      },
      "execution_count": null,
      "outputs": []
    },
    {
      "cell_type": "code",
      "source": [
        "# pop() Remove e retorna o elemento da posição especificada:\n",
        "x = [\"a\", \"b\", \"c\", \"d\"]\n",
        "x.pop (1)\n",
        "x"
      ],
      "metadata": {
        "colab": {
          "base_uri": "https://localhost:8080/"
        },
        "id": "E8x8Uu_ifEsV",
        "outputId": "3b484d41-6885-4842-8456-e637d2284f32"
      },
      "execution_count": null,
      "outputs": [
        {
          "output_type": "execute_result",
          "data": {
            "text/plain": [
              "['a', 'c', 'd']"
            ]
          },
          "metadata": {},
          "execution_count": 23
        }
      ]
    },
    {
      "cell_type": "code",
      "source": [
        "# remove() Remove o elemento especificado:\n",
        "x = [\"a\", \"b\", \"c\"]\n",
        "x.remove(\"c\")\n",
        "x\n"
      ],
      "metadata": {
        "id": "SHkkKjC_foZz"
      },
      "execution_count": null,
      "outputs": []
    },
    {
      "cell_type": "code",
      "source": [
        "\n",
        "# reverse() Inverte a ordem dos elementos:\n",
        "x = [5, 4, 3, 2, 1]\n",
        "x. reverse ()\n",
        "x"
      ],
      "metadata": {
        "id": "ublefLTUflVF"
      },
      "execution_count": null,
      "outputs": []
    },
    {
      "cell_type": "code",
      "source": [
        "# sort() Ordena:\n",
        "x = [10, 3, 3, 10, 10, 6, 6, 4, 8, 7]\n",
        "x.sort ()\n",
        "x"
      ],
      "metadata": {
        "id": "wbJtwQwlf32N",
        "colab": {
          "base_uri": "https://localhost:8080/"
        },
        "outputId": "f6235cc2-5104-420a-9de6-23fa021f726f"
      },
      "execution_count": null,
      "outputs": [
        {
          "output_type": "execute_result",
          "data": {
            "text/plain": [
              "[3, 3, 4, 6, 6, 7, 8, 10, 10, 10]"
            ]
          },
          "metadata": {},
          "execution_count": 18
        }
      ]
    },
    {
      "cell_type": "code",
      "source": [
        "#7.1.2\n",
        "x = [ 10, 5, 11, 0, 3]\n",
        "for i in x:\n",
        "  print(i)"
      ],
      "metadata": {
        "colab": {
          "base_uri": "https://localhost:8080/"
        },
        "id": "KshjpU5xf3vS",
        "outputId": "c4f65d1c-e5d5-49d0-a745-e7dda1a26f98"
      },
      "execution_count": null,
      "outputs": [
        {
          "output_type": "stream",
          "name": "stdout",
          "text": [
            "10\n",
            "5\n",
            "11\n",
            "0\n",
            "3\n"
          ]
        }
      ]
    },
    {
      "cell_type": "code",
      "source": [
        "#Uma lista homogênea contém elementos do mesmo tipo, por exemplo, strings.\n",
        "lista1 = [\"um\", \"dois\", \"três\"]\n",
        "#Uma lista é uma sequência de valores. É um tipo de “contêiner” usado para armazenar um número indefinido de dados arbitrários do mesmo tipo ou de tipos diferentes.\n",
        "\n",
        "#Uma lista heterogênea combina diferentes tipos de arquivo. No exemplo a seguir, temos uma string, um número inteiro, um ponto flutuante e até mesmo outra lista.\n",
        "\n",
        "lista2 = [\"um\", 2, 3.14, [10, 20, 30]]\n",
        "#As listas em Python têm as seguintes propriedades:\n",
        "\n",
        "#Elas são ordenadas: cada elemento dentro da lista está indexado e mantém uma ordem definida.\n",
        "#Permitem elementos duplicados: as listas podem ter elementos com o mesmo valor.\n",
        "#As listas podem aninhar, ou seja, conter uma lista dentro da outra.\n",
        "#São mutáveis: podemos editar, excluir ou adicionar elementos a uma lista existente."
      ],
      "metadata": {
        "id": "efv7bHgniGhs"
      },
      "execution_count": null,
      "outputs": []
    },
    {
      "cell_type": "code",
      "source": [
        "#Para comprovar se um item específico está na lista, aplique o operador de associação “in”.\n",
        "#Se um elemento está armazenado na lista, a expressão booleana True será retornada; caso contrário, será retornado False.\n",
        "\n",
        "compras = ['leite', 'couve', 'tomate']\n",
        "print('leite' in compras)\n",
        "\n",
        "print('ovos' in compras)\n"
      ],
      "metadata": {
        "id": "gGz1ByVRlEjJ"
      },
      "execution_count": null,
      "outputs": []
    },
    {
      "cell_type": "markdown",
      "source": [
        "**Avaliação A1**"
      ],
      "metadata": {
        "id": "_bC5IyGci5kp"
      }
    },
    {
      "cell_type": "code",
      "source": [
        "#Questao 1\n",
        "#Em Python, o método append() é utilizado para adicionar um elemento no final de uma lista.\n",
        "#VERDADEIRO\n",
        "\n",
        "x = [1, 2, 3, 4, 5, 6]\n",
        "x.append(7) #adicionando o elemento 7 ao final da lista\n",
        "x"
      ],
      "metadata": {
        "colab": {
          "base_uri": "https://localhost:8080/"
        },
        "id": "z9TmYmd4oyIQ",
        "outputId": "5321b336-eb78-435a-9a15-b3d76bd16e81"
      },
      "execution_count": null,
      "outputs": [
        {
          "output_type": "execute_result",
          "data": {
            "text/plain": [
              "[1, 2, 3, 4, 5, 6, 7]"
            ]
          },
          "metadata": {},
          "execution_count": 8
        }
      ]
    },
    {
      "cell_type": "code",
      "source": [
        "#Questao 2\n",
        "#Em Python, o método pop() remove o último elemento de uma lista.\n",
        "#FALSO\n",
        "\n",
        "x = [\"a\", \"b\", \"c\", \"d\"]\n",
        "x.pop () #pop() remove um elemento em uma posição específica (ou o último elemento, se nenhum índice for especificado).\n",
        "x"
      ],
      "metadata": {
        "colab": {
          "base_uri": "https://localhost:8080/"
        },
        "id": "4czP2kL0p7ZF",
        "outputId": "1bef94f7-4684-42d5-9cc3-5bd18f1f9bdf"
      },
      "execution_count": null,
      "outputs": [
        {
          "output_type": "execute_result",
          "data": {
            "text/plain": [
              "['a', 'b', 'c']"
            ]
          },
          "metadata": {},
          "execution_count": 5
        }
      ]
    },
    {
      "cell_type": "code",
      "source": [
        "#Questao 3\n",
        "#Em Python, é possível acessar um elemento de uma lista utilizando indices negativos.\n",
        "#VERDADEIRO\n",
        "\n",
        "x = [\"a\", \"b\", \"c\", \"d\"]\n",
        "print(x[-1]) #Começa a contar voltando, nesse caso como 'a' é 0, então -1 é 'd'"
      ],
      "metadata": {
        "colab": {
          "base_uri": "https://localhost:8080/"
        },
        "id": "JJUlZ-kPrfXz",
        "outputId": "1af18064-d2b3-4f79-bbee-d2f9925402e2"
      },
      "execution_count": null,
      "outputs": [
        {
          "output_type": "stream",
          "name": "stdout",
          "text": [
            "a\n"
          ]
        }
      ]
    },
    {
      "cell_type": "code",
      "source": [
        "#Questao 4\n",
        "#Em Python, a função len() retorna o número de elementos em uma lista.\n",
        "#VERDADEIRO\n",
        "\n",
        "x = [1, 2, 3, 4, 5, 6, 8]\n",
        "len(x) #A função len() retorna o número de itens contidos na lista fornecida."
      ],
      "metadata": {
        "colab": {
          "base_uri": "https://localhost:8080/"
        },
        "id": "P2CBZZRwtA5_",
        "outputId": "026bfc15-63dc-40ee-d4d8-53c53cf8a63e"
      },
      "execution_count": null,
      "outputs": [
        {
          "output_type": "execute_result",
          "data": {
            "text/plain": [
              "7"
            ]
          },
          "metadata": {},
          "execution_count": 14
        }
      ]
    },
    {
      "cell_type": "code",
      "source": [
        "#Questao 5\n",
        "#Em Python, a função sorted() retorna uma nova lista ordenada a partir dos elementos de uma lista original.\n",
        "#VERDADEIRO\n",
        "\n",
        "x = [5, 2, 9, 4, 3, 6, 8]\n",
        "sorted(x) #sorted() retorna uma nova lista ordenada a partir dos elementos de uma lista original."
      ],
      "metadata": {
        "colab": {
          "base_uri": "https://localhost:8080/"
        },
        "id": "OtzWOv1Vtsud",
        "outputId": "03fa822b-f363-4550-86e5-44e28071ce43"
      },
      "execution_count": null,
      "outputs": [
        {
          "output_type": "stream",
          "name": "stdout",
          "text": [
            "[5, 2, 9, 4, 3, 6, 8]\n"
          ]
        }
      ]
    },
    {
      "cell_type": "code",
      "source": [
        "#Questao 5\n",
        "#Em Python, a função sorted() retorna uma nova lista ordenada a partir dos elementos de uma lista original.\n",
        "\n",
        "x = [5, 2, 9, 4, 3, 6, 8]\n",
        "sorted(x) #sorted() retorna uma nova lista ordenada a partir dos elementos de uma lista original.\n",
        "print(x) #A lista original não é alterada."
      ],
      "metadata": {
        "colab": {
          "base_uri": "https://localhost:8080/"
        },
        "id": "A4nigMHDweUl",
        "outputId": "521ffba6-b2e3-46ff-b372-1c9a8de6a126"
      },
      "execution_count": null,
      "outputs": [
        {
          "output_type": "stream",
          "name": "stdout",
          "text": [
            "[5, 2, 9, 4, 3, 6, 8]\n"
          ]
        }
      ]
    },
    {
      "cell_type": "code",
      "source": [
        "#Questao 6\n",
        "#Em Python, a função max() retorna o maior elemento de uma lista.\n",
        "#FALSO\n",
        "\n",
        "#Para comprovar se um item específico está na lista, aplique o operador de associação “in”.\n",
        "maior=max(Lista) #O max() atribui a condição de maior valor para a Lista de números\n",
        "print(maior)"
      ],
      "metadata": {
        "colab": {
          "base_uri": "https://localhost:8080/"
        },
        "id": "dTM33CG8whov",
        "outputId": "0d1824fd-115a-4af0-d547-52abe65201a5"
      },
      "execution_count": null,
      "outputs": [
        {
          "output_type": "stream",
          "name": "stdout",
          "text": [
            "8\n"
          ]
        }
      ]
    },
    {
      "cell_type": "code",
      "source": [
        "#Questao 7\n",
        "#Em Python, uma lista pode conter outra lista como elemento.\n",
        "#VERDADEIRO\n",
        "\n",
        "x = [1, 2, [\"amanda\", \"beatriz\"], 5]  #Lista é uma estrutura de dados  recebe elementos separados por vírgula e utiliza [] , mutável permite modificações\n",
        "print(x)   #Neste caso temos a lista 'x' que tem os números inteiros 1, 2, [\"amanda\", \"beatriz\"] é uma nova lista contém strings,\n",
        "           # e o numero inteiro 5"
      ],
      "metadata": {
        "colab": {
          "base_uri": "https://localhost:8080/"
        },
        "id": "41kCduFZyEqx",
        "outputId": "bcfe11eb-a3d0-4daa-cc09-16c27e978131"
      },
      "execution_count": null,
      "outputs": [
        {
          "output_type": "stream",
          "name": "stdout",
          "text": [
            "[1, 2, ['amanda', 'beatriz'], 5]\n"
          ]
        }
      ]
    },
    {
      "cell_type": "code",
      "source": [
        "#Questao 8\n",
        "#Em Python, o operador in pode ser utilizado para verificar se um elemento está presente em uma lista\n",
        "#VERDADEIRO\n",
        "\n",
        "x = [1, 2, 3, 4, 5, 6]\n",
        "print(3 in x) #O operador in verifica se um elemento está presente em uma lista.\n",
        "print(9 in x) #Se um elemento está armazenado na lista, a expressão booleana True será retornada, caso contrário, será retornado False."
      ],
      "metadata": {
        "colab": {
          "base_uri": "https://localhost:8080/"
        },
        "id": "GUfDWpxH0V6X",
        "outputId": "30e157fb-ccec-4650-90b9-08387eb86bc6"
      },
      "execution_count": null,
      "outputs": [
        {
          "output_type": "stream",
          "name": "stdout",
          "text": [
            "True\n",
            "False\n"
          ]
        }
      ]
    },
    {
      "cell_type": "code",
      "source": [
        "#Questao 9\n",
        "#Em Python, o loop for pode ser usado para iterar sobre os indices de uma lista e acessar os elementos correspondentes.\n",
        "#VERDADEIRO\n",
        "\n",
        "x = [6, 5, 3, 4, 1, 2]\n",
        "for elementos in x: #o loop for itera sobre cada elemento da lista 'x' e imprime o valor de cada elemento.\n",
        "  print(elementos)"
      ],
      "metadata": {
        "colab": {
          "base_uri": "https://localhost:8080/"
        },
        "id": "Y9kYsmvi1Tbk",
        "outputId": "d2cab2c5-387a-4f99-b019-070918bdcc79"
      },
      "execution_count": null,
      "outputs": [
        {
          "output_type": "stream",
          "name": "stdout",
          "text": [
            "6\n",
            "5\n",
            "3\n",
            "4\n",
            "1\n",
            "2\n"
          ]
        }
      ]
    },
    {
      "cell_type": "code",
      "source": [
        "#Questao 10\n",
        "#Em Python, o operador in pode ser utilizado para verificar se um elemento está presente em uma lista\n",
        "#VERDADEIRO\n",
        "\n",
        "x = [1, 2, 3, 4, 5, 6]\n",
        "print(3 in x) #O operador in verifica se um elemento está presente em uma lista.\n",
        "print(9 in x) #Se um elemento está armazenado na lista, a expressão booleana True será retornada, caso contrário, será retornado False."
      ],
      "metadata": {
        "colab": {
          "base_uri": "https://localhost:8080/"
        },
        "id": "mAMIR-h-3nGB",
        "outputId": "0c2cdb29-56ab-4cc0-d544-7392f5044920"
      },
      "execution_count": null,
      "outputs": [
        {
          "output_type": "stream",
          "name": "stdout",
          "text": [
            "True\n",
            "False\n"
          ]
        }
      ]
    }
  ]
}