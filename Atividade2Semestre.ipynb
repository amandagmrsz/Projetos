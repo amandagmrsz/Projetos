{
  "nbformat": 4,
  "nbformat_minor": 0,
  "metadata": {
    "colab": {
      "provenance": [],
      "authorship_tag": "ABX9TyOQ0FRm9E0dGLdNrHIRt/Zk",
      "include_colab_link": true
    },
    "kernelspec": {
      "name": "python3",
      "display_name": "Python 3"
    },
    "language_info": {
      "name": "python"
    }
  },
  "cells": [
    {
      "cell_type": "markdown",
      "metadata": {
        "id": "view-in-github",
        "colab_type": "text"
      },
      "source": [
        "<a href=\"https://colab.research.google.com/github/amandagmrsz/Projetos/blob/main/Atividade2Semestre.ipynb\" target=\"_parent\"><img src=\"https://colab.research.google.com/assets/colab-badge.svg\" alt=\"Open In Colab\"/></a>"
      ]
    },
    {
      "cell_type": "markdown",
      "source": [
        "Aluna: Amanda Beatriz Guimarães Alves\n",
        "\n",
        "Turma: D2\n",
        "\n",
        "Desafio 3.3 – Individual (700 pontos)"
      ],
      "metadata": {
        "id": "_5l_Ba2Yevpe"
      }
    },
    {
      "cell_type": "markdown",
      "source": [
        "01 - Crie uma função chamada multiplica_por_dois que recebe um número como argumento e retorna o valor desse número multiplicado por dois. Em seguida, chame a função passando o número 7 e imprima o resultado. (100 pontos)\n"
      ],
      "metadata": {
        "id": "ADVM0ALKHfIw"
      }
    },
    {
      "cell_type": "code",
      "execution_count": null,
      "metadata": {
        "colab": {
          "base_uri": "https://localhost:8080/"
        },
        "id": "-j7lT-jnHcSs",
        "outputId": "b1f03303-3ab5-466d-ebfd-c21848806f22"
      },
      "outputs": [
        {
          "output_type": "stream",
          "name": "stdout",
          "text": [
            "Digite um número: 2\n",
            "2 * 2 = 4\n"
          ]
        }
      ],
      "source": [
        "# Define a função que recebe um número como argumento\n",
        "def MultiplicarPorDois(numero):\n",
        "    # Retorna o número multiplicado por dois\n",
        "    return numero * 2\n",
        "\n",
        "# Solicita ao usuário que insira um número e o converte para inteiro\n",
        "numero = int(input(\"Digite um número: \"))\n",
        "\n",
        "# Chama a função MultiplicarPorDois passando o número inserido pelo usuário\n",
        "# e armazena o resultado na variável 'resultado'\n",
        "resultado = MultiplicarPorDois(numero)\n",
        "\n",
        "# Imprime o resultado da multiplicação\n",
        "print(f\"{numero} * 2 = {resultado}\")\n"
      ]
    },
    {
      "cell_type": "markdown",
      "source": [
        "02 - Crie uma função chamada conta_vogais que recebe uma string como argumento e retorna o número de vogais (a, e, i, o, u) presentes na string, independentemente de serem maiúsculas ou minúsculas. Teste a função com a string.  (100 pontos)\n"
      ],
      "metadata": {
        "id": "OR5CiepuHlKG"
      }
    },
    {
      "cell_type": "code",
      "source": [
        "# Cria uma função para contar as vogais da string\n",
        "def ContaVogais(texto):  # Recebe um texto como parâmetro\n",
        "    # Define as vogais (maiúsculas, minúsculas e com acentos)\n",
        "    vogais = \"AEIOUaeiouáéíóúâêôãõ\"\n",
        "    contador = 0  # O contador inicia em 0\n",
        "\n",
        "    # Inicia o loop para percorrer cada letra do texto\n",
        "    for letra in texto:\n",
        "        # Verifica se a letra atual está na lista de vogais\n",
        "        if letra in vogais:\n",
        "            contador += 1  # Se for uma vogal, incrementa o contador\n",
        "\n",
        "    # Retorna o número total de vogais encontradas\n",
        "    return contador\n",
        "\n",
        "# Solicita ao usuário que digite um texto e chama a função ContaVogais\n",
        "resultado = ContaVogais(input(\"Digite um texto: \"))\n",
        "\n",
        "# Imprime o número total de vogais encontrado no texto\n",
        "print(f\"O número de vogais é: {resultado}\")\n"
      ],
      "metadata": {
        "colab": {
          "base_uri": "https://localhost:8080/"
        },
        "id": "lSU873NBHnYw",
        "outputId": "87a1173a-a8a3-42ae-de6a-ebbd5a2f57b2"
      },
      "execution_count": null,
      "outputs": [
        {
          "output_type": "stream",
          "name": "stdout",
          "text": [
            "Digite um texto: a amanda é linda\n",
            "O número de vogais é: 7\n"
          ]
        }
      ]
    },
    {
      "cell_type": "markdown",
      "source": [
        "03 - Escreva uma solução que informe se um determinado ano é bissexto. Um ano é considerado bissexto se ele for divisível por 4. No entanto, anos que são divisíveis por 100 não são bissextos, a menos que também sejam divisíveis por 400. Esta regra é usada para corrigir o calendário, de modo que ele fique em conformidade com o ano solar. REGRA: Um ano é bissexto se: 1. Ele é divisível por 4 e não é divisível por 100. 2. Ou ele é divisível por 400. (100 pontos)\n"
      ],
      "metadata": {
        "id": "Ms5bCjMsHnxv"
      }
    },
    {
      "cell_type": "code",
      "source": [
        "# Define a função que verifica se um ano é bissexto\n",
        "def AnoBissexto(ano):\n",
        "    # Verifica se o ano é divisível por 4 e não é divisível por 100\n",
        "    # Ou se é divisível por 400\n",
        "    if (ano % 4 == 0 and ano % 100 != 0) or (ano % 400 == 0):\n",
        "        print(\"O ano é bissexto.\")  # Se a condição for verdadeira\n",
        "    else:\n",
        "        print(\"O ano não é bissexto.\")  # Se a condição for falsa\n",
        "\n",
        "# Solicita ao usuário que digite um ano e o converte para inteiro\n",
        "ano = int(input(\"Digite um ano: \"))\n",
        "\n",
        "# Chama a função AnoBissexto passando o ano fornecido pelo usuário\n",
        "AnoBissexto(ano)\n"
      ],
      "metadata": {
        "id": "xJqbWPN8HpPS",
        "colab": {
          "base_uri": "https://localhost:8080/"
        },
        "outputId": "75912bc6-c480-41ac-b3a2-bdaf85e72970"
      },
      "execution_count": null,
      "outputs": [
        {
          "output_type": "stream",
          "name": "stdout",
          "text": [
            "Digite um ano: 2025\n",
            "O ano não é bissexto.\n"
          ]
        }
      ]
    },
    {
      "cell_type": "markdown",
      "source": [
        "04 - Desenvolva uma função que receba duas listas de números inteiros separados por espaço e retorne uma lista contendo apenas os elementos que são comuns a ambas as listas, sem duplicatas. Detalhamento: Função elementos_comuns: 1. Crie a função que converte cada elemento das listas lista1 e lista2 para inteiro usando map(int, lista) antes de convertê-los em conjuntos (set) e encontrar a interseção entre eles. Isso garante que tratemos os elementos corretamente como números inteiros e não como strings. (400 pontos)"
      ],
      "metadata": {
        "id": "sVFBU8nOHrUu"
      }
    },
    {
      "cell_type": "code",
      "source": [
        "# Define a função ElementosComuns que recebe duas listas como strings\n",
        "def ElementosComuns(lista1, lista2):\n",
        "    # Converter as strings de listas em conjuntos de inteiros\n",
        "    lista1_convertida = set(map(int, lista1.split()))\n",
        "    lista2_convertida = set(map(int, lista2.split()))\n",
        "\n",
        "    # Encontrar os elementos comuns entre os dois conjuntos\n",
        "    elementos_comuns = lista1_convertida & lista2_convertida  # Conjunto de elementos comuns\n",
        "\n",
        "    # Retornar o resultado como uma lista\n",
        "    return list(elementos_comuns)  # Converte os elementos comuns de volta para lista\n",
        "\n",
        "# Solicita ao usuário que digite a primeira lista de números inteiros\n",
        "lista1 = input(\"Digite a primeira lista de números inteiros separados por espaço: \")\n",
        "# Solicita ao usuário que digite a segunda lista de números inteiros\n",
        "lista2 = input(\"Digite a segunda lista de números inteiros separados por espaço: \")\n",
        "\n",
        "# Chama a função  e imprime os elementos comuns entre as duas listas\n",
        "print(\"Elementos comuns nas duas listas:\", ElementosComuns(lista1, lista2))"
      ],
      "metadata": {
        "id": "g4HnMpneHtNy",
        "colab": {
          "base_uri": "https://localhost:8080/"
        },
        "outputId": "e29db3aa-3317-4075-b387-028c49f9b851"
      },
      "execution_count": null,
      "outputs": [
        {
          "output_type": "stream",
          "name": "stdout",
          "text": [
            "Digite a primeira lista de números inteiros separados por espaço: 1 1 1 3 4 4 5 5 6\n",
            "Digite a segunda lista de números inteiros separados por espaço: 1 3 5\n",
            "Elementos comuns nas duas listas: [1, 3, 5]\n"
          ]
        }
      ]
    },
    {
      "cell_type": "code",
      "source": [
        "#Basicamente, a função set cria um conjunto que elimina números duplicados.\n",
        "#Em seguida, a função map é utilizada para transformar os elementos da lista gerada por lista1.split() em números inteiros.\n",
        "#A função split() divide a string em uma lista de substrings, utilizando espaços como delimitadores ou separadores padrão.\n",
        "\n"
      ],
      "metadata": {
        "id": "L96L8eIna25J"
      },
      "execution_count": null,
      "outputs": []
    }
  ]
}