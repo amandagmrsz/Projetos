{
  "nbformat": 4,
  "nbformat_minor": 0,
  "metadata": {
    "colab": {
      "provenance": [],
      "authorship_tag": "ABX9TyMJ3L6Nkk6Oxoysf6pJAo/w",
      "include_colab_link": true
    },
    "kernelspec": {
      "name": "python3",
      "display_name": "Python 3"
    },
    "language_info": {
      "name": "python"
    }
  },
  "cells": [
    {
      "cell_type": "markdown",
      "metadata": {
        "id": "view-in-github",
        "colab_type": "text"
      },
      "source": [
        "<a href=\"https://colab.research.google.com/github/amandagmrsz/Projetos/blob/main/MaiorMenorMediano.ipynb\" target=\"_parent\"><img src=\"https://colab.research.google.com/assets/colab-badge.svg\" alt=\"Open In Colab\"/></a>"
      ]
    },
    {
      "cell_type": "code",
      "execution_count": null,
      "metadata": {
        "id": "jNuiUvteIwUN"
      },
      "outputs": [],
      "source": [
        "print(\"Escreva o primeiro número: \")\n",
        "a = int(input())\n",
        "print(\"Escreva o segundo número: \")\n",
        "b = int(input())\n",
        "print(\"Escreva o terceiro número: \")\n",
        "c = int(input())\n",
        "if a >= b and a >= c:\n",
        "    print(str(a) + \" é o maior.\")\n",
        "    if b <= a and b >= c:\n",
        "        print(str(b) + \" é o mediano.\")\n",
        "        print(str(c) + \" é o menor.\")\n",
        "    else:\n",
        "        if c <= a and c >= b:\n",
        "            print(str(c) + \" é o mediano.\")\n",
        "            print(str(b) + \" é o menor.\")\n",
        "else:\n",
        "    if b >= a and b >= c:\n",
        "        print(str(b) + \" é o maior.\")\n",
        "        if a <= b and a >= c:\n",
        "            print(str(a) + \" é o mediano.\")\n",
        "            print(str(c) + \" é o menor.\")\n",
        "        else:\n",
        "            if c <= b and c >= a:\n",
        "                print(str(c) + \" é o mediano.\")\n",
        "                print(str(a) + \" é o menor.\")\n",
        "    else:\n",
        "        print(str(c) + \" é o maior.\")\n",
        "        if a <= c and b >= a:\n",
        "            print(str(b) + \" é o mediano.\")\n",
        "            print(str(a) + \" é o menor.\")\n",
        "        else:\n",
        "            if b <= c and a >= b:\n",
        "                print(str(a) + \" é o mediano.\")\n",
        "                print(str(b) + \" é o menor.\")"
      ]
    }
  ]
}