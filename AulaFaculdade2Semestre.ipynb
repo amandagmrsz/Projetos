{
  "cells": [
    {
      "cell_type": "markdown",
      "metadata": {
        "id": "view-in-github",
        "colab_type": "text"
      },
      "source": [
        "<a href=\"https://colab.research.google.com/github/amandagmrsz/Projetos/blob/main/AulaFaculdade2Semestre.ipynb\" target=\"_parent\"><img src=\"https://colab.research.google.com/assets/colab-badge.svg\" alt=\"Open In Colab\"/></a>"
      ]
    },
    {
      "cell_type": "code",
      "source": [
        "!pip install Pillow\n",
        "\n",
        "\n",
        "\n",
        "\n"
      ],
      "metadata": {
        "id": "R1g96PnAizVy"
      },
      "execution_count": null,
      "outputs": []
    },
    {
      "cell_type": "code",
      "source": [
        "from PIL import Image, ImageDraw, ImageFont\n",
        "\n",
        "# Carrega uma imagem base ou cria do zero\n",
        "image = Image.new('RGB', (800, 600), color='white')\n",
        "draw = ImageDraw.Draw(image)\n",
        "\n",
        "# Adiciona texto no holerite\n",
        "font = ImageFont.truetype(\"arial.ttf\", 20)  # Certifique-se de ter a fonte instalada\n",
        "draw.text((50, 50), \"Holerite\", fill=\"black\", font=font)\n",
        "draw.text((50, 100), \"Nome: Amanda Guimarães\", fill=\"black\", font=font)\n",
        "draw.text((50, 150), \"Salário: R$ 5.000,00\", fill=\"black\", font=font)\n",
        "\n",
        "# Salva a imagem\n",
        "image.save(\"holerite.png\")\n"
      ],
      "metadata": {
        "id": "YqXDluu3i8r9"
      },
      "execution_count": null,
      "outputs": []
    },
    {
      "cell_type": "code",
      "source": [
        "def calcular_inss(salario):\n",
        "    \"\"\"\n",
        "    Calcula o desconto de INSS com base nas faixas de alíquota.\n",
        "    \"\"\"\n",
        "    if salario <= 1412.00:\n",
        "        aliquota = 0.075\n",
        "        desconto = salario * aliquota\n",
        "    elif salario <= 2666.68:\n",
        "        aliquota = 0.09\n",
        "        desconto = salario * aliquota\n",
        "    elif salario <= 4000.03:\n",
        "        aliquota = 0.12\n",
        "        desconto = salario * aliquota\n",
        "    else:\n",
        "        aliquota = 0.14\n",
        "        desconto = min(salario * aliquota, 1090.04)  # Teto de desconto\n",
        "    return desconto\n",
        "\n",
        "def calcular_irpf(salario):\n",
        "    \"\"\"\n",
        "    Calcula o imposto de renda com base nas faixas e deduções.\n",
        "    \"\"\"\n",
        "    if salario <= 2259.20:\n",
        "        aliquota = 0.0\n",
        "        deducao = 0\n",
        "    elif salario <= 2826.65:\n",
        "        aliquota = 0.075\n",
        "        deducao = 169.44\n",
        "    elif salario <= 3751.05:\n",
        "        aliquota = 0.15\n",
        "        deducao = 381.44\n",
        "    elif salario <= 4664.68:\n",
        "        aliquota = 0.225\n",
        "        deducao = 662.77\n",
        "    else:\n",
        "        aliquota = 0.275\n",
        "        deducao = 896.00\n",
        "    imposto = (salario * aliquota) - deducao\n",
        "    return max(imposto, 0)  # IR não pode ser negativo\n",
        "\n",
        "def calcular_fgts(salario):\n",
        "    \"\"\"\n",
        "    Calcula o valor do FGTS (8% do salário).\n",
        "    \"\"\"\n",
        "    return salario * 0.08\n",
        "\n",
        "# Exemplo de uso\n",
        "salario = float(input(\"Digite o salário do funcionário: R$ \"))\n",
        "inss = calcular_inss(salario)\n",
        "irpf = calcular_irpf(salario)\n",
        "fgts = calcular_fgts(salario)\n",
        "\n",
        "print(\"\\nResumo dos cálculos:\")\n",
        "print(f\"Salário informado: R$ {salario:.2f}\")\n",
        "print(f\"Desconto INSS: R$ {inss:.2f}\")\n",
        "print(f\"Imposto de Renda (IRPF): R$ {irpf:.2f}\")\n",
        "print(f\"Recolhimento FGTS: R$ {fgts:.2f}\")\n"
      ],
      "metadata": {
        "id": "nvNn3-r6qIMI"
      },
      "execution_count": null,
      "outputs": []
    },
    {
      "cell_type": "markdown",
      "source": [],
      "metadata": {
        "id": "7mxcCf--izLk"
      }
    },
    {
      "cell_type": "markdown",
      "source": [],
      "metadata": {
        "id": "to9LlA7oizIn"
      }
    },
    {
      "cell_type": "markdown",
      "source": [],
      "metadata": {
        "id": "EAxv2dZMizGS"
      }
    },
    {
      "cell_type": "markdown",
      "source": [],
      "metadata": {
        "id": "OloOCErIizCz"
      }
    },
    {
      "cell_type": "markdown",
      "source": [],
      "metadata": {
        "id": "slWSVGRpiy_X"
      }
    },
    {
      "cell_type": "markdown",
      "source": [],
      "metadata": {
        "id": "xDlNC2wTiy5p"
      }
    },
    {
      "cell_type": "markdown",
      "source": [],
      "metadata": {
        "id": "Xb4g0GSJiyvm"
      }
    },
    {
      "cell_type": "code",
      "execution_count": null,
      "metadata": {
        "id": "Nb-g8KFDTXb9"
      },
      "outputs": [],
      "source": [
        "print(\"Qual valor em reais do consumo?\")\n",
        "cONTA = float(input())\n",
        "print(\"Quantos % você quer dar para o garçom?\")\n",
        "gORJETA = float(input())\n",
        "gORJETA = gORJETA / 100 + 1\n",
        "tOTAL = cONTA * gORJETA\n",
        "print(\"O valor a ser pago, incluindo consumo e gorjeta é R$\" + str(tOTAL))\n"
      ]
    },
    {
      "cell_type": "code",
      "execution_count": null,
      "metadata": {
        "id": "9R8HCNMZf0FP"
      },
      "outputs": [],
      "source": [
        "IDADE = int(input(\"Informe sua idade: \"))\n",
        "if IDADE >= 18:\n",
        "    print(\"Você é maior de idade\")\n",
        "else :\n",
        "    print(\"Você é menor de idade\")"
      ]
    },
    {
      "cell_type": "code",
      "execution_count": null,
      "metadata": {
        "id": "xPqGqiW6kBQb"
      },
      "outputs": [],
      "source": [
        "iDADE = int(input(\"Informe sua idade: \"))\n",
        "if iDADE >= 18:\n",
        "    print(\"Parabéns! Você pode tirar a carteira.\")\n",
        "else:\n",
        "    dIFERENCA = int( 18 - iDADE )\n",
        "    print(\"Você esté inapto. Falta \" + str(dIFERENCA) + \" anos para você tirar a carteira.\")\n"
      ]
    },
    {
      "cell_type": "code",
      "execution_count": null,
      "metadata": {
        "id": "cC-BrS12FwnH"
      },
      "outputs": [],
      "source": [
        "# Solicita os três números ao usuário\n",
        "print(\"Escreva o primeiro número: \")\n",
        "a = int(input())\n",
        "print(\"Escreva o segundo número: \")\n",
        "b = int(input())\n",
        "print(\"Escreva o terceiro número: \")\n",
        "c = int(input())\n",
        "\n",
        "# Inicializa as variáveis\n",
        "maior = mediano = menor = 0\n",
        "\n",
        "# Determina o maior, mediano e menor número\n",
        "if a >= b and a >= c:\n",
        "    maior = a\n",
        "    if b >= c:\n",
        "        mediano = b\n",
        "        menor = c\n",
        "    else:\n",
        "        mediano = c\n",
        "        menor = b\n",
        "elif b >= a and b >= c:\n",
        "    maior = b\n",
        "    if a >= c:\n",
        "        mediano = a\n",
        "        menor = c\n",
        "    else:\n",
        "        mediano = c\n",
        "        menor = a\n",
        "else:\n",
        "    maior = c\n",
        "    if a >= b:\n",
        "        mediano = a\n",
        "        menor = b\n",
        "    else:\n",
        "        mediano = b\n",
        "        menor = a\n",
        "\n",
        "# Exibe os resultados\n",
        "print(f\"{maior} é o maior.\")\n",
        "print(f\"{mediano} é o mediano.\")\n",
        "print(f\"{menor} é o menor.\")"
      ]
    },
    {
      "cell_type": "markdown",
      "metadata": {
        "id": "uQHhZZvuTbf2"
      },
      "source": [
        "Aula do dia 13/09/2024"
      ]
    },
    {
      "cell_type": "code",
      "execution_count": null,
      "metadata": {
        "id": "oP6DLvQxTYMO"
      },
      "outputs": [],
      "source": [
        "idade=int(input(\"Digite sua idade: \"))\n",
        "if idade>=18:\n",
        "    print(\"Você está apto a tirar a CNH.\")\n",
        "else:\n",
        "    faltam = 18 - idade\n",
        "    print(f\"Faltam {faltam} anos para você poder tirar sua CNH\")"
      ]
    },
    {
      "cell_type": "code",
      "execution_count": null,
      "metadata": {
        "id": "EZP0tJTnVSC1"
      },
      "outputs": [],
      "source": [
        "idade=int(input(\"Digite sua idade: \"))\n",
        "if idade>=18:\n",
        "    print(\"Você está apto a tirar a CNH.\")\n",
        "else:\n",
        "    print(f\"Faltam {18-idade} anos para você poder tirar sua CNH\")"
      ]
    },
    {
      "cell_type": "code",
      "execution_count": null,
      "metadata": {
        "id": "-8ciQgSJXlZe"
      },
      "outputs": [],
      "source": [
        "print(\"Informe três números e te direi qual é o maior.\")\n",
        "a=int(input(\"Digite o primeiro número: \"))\n",
        "b=int(input(\"Digite o segundo número: \"))\n",
        "c=int(input(\"Digite o terceiro número: \"))\n",
        "if a>b and a>c:\n",
        "    print(f\"{a} é o maior.\")\n",
        "if b>a and b>c:\n",
        "    print(f\"{b} é o maior.\")\n",
        "else:\n",
        "    print(f\"{c} é o maior.\")"
      ]
    },
    {
      "cell_type": "code",
      "execution_count": null,
      "metadata": {
        "id": "p_PZ0MUEaMeo"
      },
      "outputs": [],
      "source": [
        "#Estrututra de repetição - while\n",
        "i=1\n",
        "while i<=6:\n",
        "    print(i)\n",
        "    i=i+1"
      ]
    },
    {
      "cell_type": "code",
      "execution_count": null,
      "metadata": {
        "id": "IKJAPrW22MQC"
      },
      "outputs": [],
      "source": [
        "#Algoritmo que calcula a média de 30 alunos\n",
        "#Pedindo para professora dizer qual turma que ela está avaliando\n",
        "turma = str(input(\"Qual turma você está avaliando? \"))\n",
        "#Inicializar a soma das notas\n",
        "cont = 1\n",
        "#Pedir para professora informar a quantidade de alunos\n",
        "QTDALUNOS = int(input(\"Digite a quantidade de alunos: \"))\n",
        "\n",
        "#Loop para ler as notas dos alunos\n",
        "while cont < QTDALUNOS:\n",
        "    print(f\"Vamos calcular a nota do aluno {cont}\")\n",
        "    nome = str(input(\"Digite o nome do aluno: \"))\n",
        "    nota1 = float(input(\"Digite a primeira nota do aluno: \"))\n",
        "    nota2 = float(input(\"Digite a segunda nota do aluno: \"))\n",
        "    nota3 = float(input(\"Digite a terceira nota do aluno: \"))\n",
        "    #Calcular a média das notas do aluno\n",
        "    media = (nota1 + nota2 + nota3) / 3\n",
        "    #Exibir a média do aluno e se ele foi aprovado ou reprovado\n",
        "    if media >= 6:\n",
        "      print(f\"{cont} - {nome} - {media:.2f}  - \\033[1;32mAPROVADO\\033[m \")\n",
        "    else:\n",
        "        print(f\"{cont} - {nome}- {media:.2f}  - \\033[1;31mREPROVADO\\033[m \")\n",
        "\n",
        "    #Incrementar o contador\n",
        "    cont += 1\n"
      ]
    },
    {
      "cell_type": "code",
      "execution_count": null,
      "metadata": {
        "id": "pP5D0sOBFHTp"
      },
      "outputs": [],
      "source": [
        "# Algoritmo que calcula a média de alunos\n",
        "# Pedindo para  informar a turma\n",
        "turma = str(input(\"Qual turma você está avaliando? \"))\n",
        "print(f\"\\n\\033[1mturma: {turma}\\033[1m\")\n",
        "\n",
        "# Inicializar o contador de alunos\n",
        "cont = 1\n",
        "\n",
        "# Pedindo para informar a quantidade de alunos\n",
        "QTDALUNOS = int(input(\"Digite a quantidade de alunos: \"))\n",
        "\n",
        "print()  # Adiciona uma linha em branco\n",
        "\n",
        "# Loop para ler as notas dos alunos\n",
        "while cont <= QTDALUNOS:\n",
        "    print(f\"Vamos calcular a nota do aluno {cont}\")\n",
        "\n",
        "    # Pedindo nome e notas do aluno\n",
        "    nome = str(input(\"Digite o nome do aluno: \"))\n",
        "    nota1 = float(input(\"Digite a primeira nota do aluno: \"))\n",
        "    nota2 = float(input(\"Digite a segunda nota do aluno: \"))\n",
        "    nota3 = float(input(\"Digite a terceira nota do aluno: \"))\n",
        "\n",
        "    # Calcular a média das notas\n",
        "    media = (nota1 + nota2 + nota3) / 3\n",
        "\n",
        "    # Exibir se o aluno foi aprovado ou reprovado com reset de cor\n",
        "    if media >= 6:\n",
        "        print(f\"{cont} - {nome} - {media:.2f}  - \\033[1;32mAPROVADO\\033[m\")\n",
        "    else:\n",
        "        print(f\"{cont} - {nome} - {media:.2f}  - \\033[1;31mREPROVADO\\033[m\")\n",
        "\n",
        "    # Incrementar o contador\n",
        "    cont += 1\n",
        "\n",
        "    # Pular uma linha antes do próximo aluno\n",
        "    print()  # Adiciona uma linha em branco\n"
      ]
    },
    {
      "cell_type": "markdown",
      "source": [
        "\n",
        "\n",
        " **skate**"
      ],
      "metadata": {
        "id": "n2HINcfHYn-h"
      }
    },
    {
      "cell_type": "code",
      "execution_count": null,
      "metadata": {
        "id": "NwxZr-nIj-X1"
      },
      "outputs": [],
      "source": [
        "# Algoritmo que calcula a NOTA DOS SKTATISTAS\n",
        "# Pedindo para  informar qual modalidade do skate que é\n",
        "Modalidade = str(input(\"Você está avaliando Park ou Street? \"))\n",
        "Sexo = str(input(\"Você está avaliando o sexo feminino ou masculino? \"))\n",
        "print(f\"\\n\\033[1mModalidade: {Modalidade}\\033[m\")\n",
        "print(f\"\\033[1mSexo: {Sexo}\\033[m\")\n",
        "\n",
        "# Inicializar o contador de juiz\n",
        "ContJuiz = 1\n",
        "ContAtletas = 1\n",
        "\n",
        "#Deixando pré definido a quantidade de Juiz\n",
        "QtdJuiz = 5\n",
        "\n",
        "# Pedindo para informar a quantidade de atletas\n",
        "QtdAtletas = int(input(\"Digite a quantidade de atletas: \"))\n",
        "\n",
        "print()  # Adiciona uma linha em branco\n",
        "\n",
        "\n",
        "#if e else pra se for stree ou park\n",
        "if Modalidade == \"Street\":\n",
        "# Loop para ler as notas de cada juiz\n",
        "  while ContJuiz <= QtdJuiz:\n",
        "      NomeJuiz = str(input(\"Digite o nome do juiz: \"))\n",
        "      while ContAtletas <= QtdAtletas:\n",
        "        NomeAtleta = str(input(\"Digite o nome do atleta: \"))\n",
        "        PaisAtleta = str(input(\"Digite o país do atleta: \"))\n",
        "else:\n",
        "      NomeJuiz = str(input(\"Digite o nome do juiz: \"))\n",
        "      while ContAtletas <= QtdAtletas:\n",
        "        NomeAtleta = str(input(\"Digite o nome do atleta: \"))"
      ]
    },
    {
      "cell_type": "code",
      "execution_count": null,
      "metadata": {
        "id": "9B4BP2LIsYb7"
      },
      "outputs": [],
      "source": [
        "# Algoritmo que calcula a NOTA DOS SKATISTAS com base em critérios (nota total de 100)\n",
        "# Pedindo para informar qual modalidade do skate que é\n",
        "Modalidade = input(\"Você está avaliando Park ou Street? \")\n",
        "Sexo = input(\"Você está avaliando o sexo feminino ou masculino? \")\n",
        "\n",
        "print(f\"\\n\\033[1mModalidade: {Modalidade}\\033[m\")\n",
        "print(f\"\\033[1mSexo: {Sexo}\\033[m\")\n",
        "\n",
        "# Definindo a quantidade de Juízes e Critérios\n",
        "QtdJuiz = 5\n",
        "QtdAtletas = int(input(\"Digite a quantidade de atletas: \"))\n",
        "\n",
        "# Definindo os critérios de avaliação com pesos iguais (100 dividido pelos critérios)\n",
        "criterios = {\n",
        "    'Execução': 25,\n",
        "    'Dificuldade da manobra': 25,\n",
        "    'Criatividade': 25,\n",
        "    'Consistência': 25\n",
        "}\n",
        "\n",
        "# Inicializando o contador de juízes\n",
        "ContJuiz = 1\n",
        "\n",
        "# Loop para avaliar os juízes\n",
        "while ContJuiz <= QtdJuiz:\n",
        "    NomeJuiz = input(f\"\\nDigite o nome do juiz {ContJuiz}: \")\n",
        "\n",
        "    # Inicializando o contador de atletas\n",
        "    ContAtletas = 1\n",
        "\n",
        "    # Loop para avaliar os atletas\n",
        "    while ContAtletas <= QtdAtletas:\n",
        "        NomeAtleta = input(f\"\\nDigite o nome do atleta {ContAtletas}: \")\n",
        "        PaisAtleta = input(f\"Digite o país do atleta {NomeAtleta}: \")\n",
        "\n",
        "        # Coletar as notas para cada critério\n",
        "        notas_criterios = []\n",
        "        for criterio, peso in criterios.items():\n",
        "            nota_criterio = float(input(f\"Digite a nota do juiz {NomeJuiz} para o critério {criterio} do atleta {NomeAtleta} (0 a {peso}): \"))\n",
        "            while nota_criterio < 0 or nota_criterio > peso:\n",
        "                print(f\"Nota inválida. A nota deve estar entre 0 e {peso}.\")\n",
        "                nota_criterio = float(input(f\"Digite a nota do juiz {NomeJuiz} para o critério {criterio} do atleta {NomeAtleta} (0 a {peso}): \"))\n",
        "            notas_criterios.append(nota_criterio)\n",
        "\n",
        "        # Calculando a nota final do atleta para este juiz (soma dos critérios)\n",
        "        NotaFinal = sum(notas_criterios)\n",
        "        print(f\"\\nA nota final do atleta {NomeAtleta} ({PaisAtleta}) dada pelo juiz {NomeJuiz} é: {NotaFinal:.2f}\")\n",
        "\n",
        "        # Avançar para o próximo atleta\n",
        "        ContAtletas += 1\n",
        "\n",
        "    # Avançar para o próximo juiz\n",
        "    ContJuiz += 1\n",
        "\n",
        "print(\"\\nAvaliação concluída!\")\n",
        "\n",
        "\n",
        "\n",
        "#street = A competição é dividida em duas voltas de 45 segundos e cinco tentativas de manobras individuais. As quatro melhores pontuações são somadas para determinar o vencedo\n",
        "#park = os skatistas têm três corridas de 45 segundos para executar suas melhores manobras. Apenas a maior pontuação é considerada\n",
        "#colocar qual juiz é\n",
        "#colocar qual jogador é e de qual pais e o sexo\n",
        "\n",
        "#Execução das manobras\n",
        "\n",
        "#Variedade\n",
        "\n",
        "#Dificuldade\n",
        "\n",
        "#Continuidade\n",
        "\n",
        "#Originalidade\n",
        "\n",
        "#Estilo\n",
        "\n",
        "#Amplitude\n",
        "\n",
        "#Uso da rampa\n",
        "\n",
        "\n",
        "#fazer uma dicionario para adicionar nota e nome mas tem que somar nota total e qual a nota final do participante\n"
      ]
    },
    {
      "cell_type": "code",
      "execution_count": null,
      "metadata": {
        "id": "BrCIR2TJuStz"
      },
      "outputs": [],
      "source": [
        "# Algoritmo que calcula a NOTA DOS SKATISTAS com base em critérios (nota total de 100)\n",
        "# Pedindo para informar qual modalidade do skate que é\n",
        "Modalidade = input(\"Você está avaliando Park ou Street? \")\n",
        "Sexo = input(\"Você está avaliando o sexo feminino ou masculino? \")\n",
        "\n",
        "print(f\"\\n\\033[1mModalidade: {Modalidade}\\033[m\")\n",
        "print(f\"\\033[1mSexo: {Sexo}\\033[m\")\n",
        "\n",
        "# Definindo a quantidade de Juízes e Critérios\n",
        "QtdJuiz = 5\n",
        "QtdAtletas = int(input(\"Digite a quantidade de atletas: \"))\n",
        "\n",
        "# Definindo os critérios de avaliação com pesos iguais (100 dividido pelos critérios)\n",
        "criterios = {\n",
        "    'Execução': 25,\n",
        "    'Dificuldade da manobra': 25,\n",
        "    'Criatividade': 25,\n",
        "    'Consistência': 25\n",
        "}\n",
        "\n",
        "# Lista para armazenar as notas finais de todos os atletas\n",
        "ranking_atletas = []\n",
        "\n",
        "# Inicializando o contador de juízes\n",
        "ContJuiz = 1\n",
        "\n",
        "# Loop para avaliar os juízes\n",
        "while ContJuiz <= QtdJuiz:\n",
        "    NomeJuiz = input(f\"\\nDigite o nome do juiz {ContJuiz}: \").strip()\n",
        "\n",
        "    # Inicializando o contador de atletas\n",
        "    ContAtletas = 1\n",
        "\n",
        "    # Loop para avaliar os atletas\n",
        "    while ContAtletas <= QtdAtletas:\n",
        "        NomeAtleta = input(f\"\\nDigite o nome do atleta {ContAtletas}: \")\n",
        "        PaisAtleta = input(f\"Digite o país do atleta {NomeAtleta}: \")\n",
        "\n",
        "        # Coletar as notas para cada critério\n",
        "        notas_criterios = []\n",
        "        for criterio, peso in criterios.items():\n",
        "            nota_criterio = float(input(f\"Digite a nota do juiz {NomeJuiz} para o critério {criterio} do atleta {NomeAtleta} (0 a {peso}): \"))\n",
        "            while nota_criterio < 0 or nota_criterio > peso:\n",
        "                print(f\"Nota inválida. A nota deve estar entre 0 e {peso}.\")\n",
        "                nota_criterio = float(input(f\"Digite a nota do juiz {NomeJuiz} para o critério {criterio} do atleta {NomeAtleta} (0 a {peso}): \"))\n",
        "            notas_criterios.append(nota_criterio)\n",
        "\n",
        "        # Calculando a nota final do atleta para este juiz (soma dos critérios)\n",
        "        NotaFinal = sum(notas_criterios)\n",
        "        print(f\"\\nA nota final do atleta {NomeAtleta} ({PaisAtleta}) dada pelo juiz {NomeJuiz} é: {NotaFinal:.2f}\")\n",
        "\n",
        "        # Armazenar o nome do atleta e a nota final na lista de ranking\n",
        "        ranking_atletas.append((NomeAtleta, NotaFinal))\n",
        "\n",
        "        # Avançar para o próximo atleta\n",
        "        ContAtletas += 1\n",
        "\n",
        "    # Avançar para o próximo juiz\n",
        "    ContJuiz += 1\n",
        "\n",
        "# Ordenando o ranking de atletas do maior para o menor com base nas notas\n",
        "ranking_atletas = sorted(ranking_atletas, key=lambda x: x[1], reverse=True)\n",
        "\n",
        "# Exibindo o ranking final\n",
        "print(\"\\nRanking final dos atletas:\")\n",
        "for i, (atleta, nota) in enumerate(ranking_atletas, start=1):\n",
        "    print(f\"{i}º lugar: {atleta} com nota {nota:.2f}\")\n",
        "\n",
        "print(\"\\nAvaliação concluída!\")\n"
      ]
    },
    {
      "cell_type": "code",
      "execution_count": null,
      "metadata": {
        "id": "UEm844-b3gfU"
      },
      "outputs": [],
      "source": [
        "def calcular_media_notas(notas):\n",
        "    # Eliminar a nota mais alta e mais baixa\n",
        "    notas.sort()  # Ordenar as notas\n",
        "    notas_filtradas = notas[1:-1]  # Elimina a primeira (menor) e a última (maior)\n",
        "\n",
        "    # Calcular a média das três notas restantes\n",
        "    media = sum(notas_filtradas)\n",
        "    return media\n",
        "\n",
        "# Exemplo de notas de 5 juízes para 3 voltas\n",
        "voltas = {\n",
        "    \"Volta 1\": [85.00, 90.00, 88.00, 91.00, 87.00],\n",
        "    \"Volta 2\": [80.00, 92.00, 85.00, 89.00, 86.00],\n",
        "    \"Volta 3\": [88.00, 91.00, 87.00, 90.00, 85.00]\n",
        "}\n",
        "\n",
        "# Armazenar as médias de cada volta\n",
        "medias_voltas = {}\n",
        "\n",
        "# Calcular a média de cada volta\n",
        "for volta, notas in voltas.items():\n",
        "    media = calcular_media_notas(notas)\n",
        "    medias_voltas[volta] = media\n",
        "    print(f\"{volta}: Média = {media:.2f}\")\n",
        "\n",
        "# Selecionar a melhor volta\n",
        "melhor_volta = max(medias_voltas, key=medias_voltas.get)\n",
        "melhor_media = medias_voltas[melhor_volta]\n",
        "\n",
        "print(f\"\\nA melhor volta foi {melhor_volta} com a média de {melhor_media:.2f}\")\n"
      ]
    },
    {
      "cell_type": "code",
      "source": [
        "#27/09/2024 - prof karla"
      ],
      "metadata": {
        "id": "js5jVjA5YAKC"
      },
      "execution_count": null,
      "outputs": []
    },
    {
      "cell_type": "code",
      "execution_count": null,
      "metadata": {
        "id": "uekBHq1hUSFN"
      },
      "outputs": [],
      "source": [
        "print(\"Informe uma idade válida: \")\n",
        "while True:\n",
        "  age =\n",
        "  int(input())\n",
        "  if age >= 0 and age <= 110: break"
      ]
    },
    {
      "cell_type": "code",
      "source": [
        "lista=[\"karla\", \"amanda\", \"mateus\", \"clarice\", \"joão\"]\n",
        "print (lista)\n",
        "print (len(lista))#ler a quantidade de elementos na lista"
      ],
      "metadata": {
        "colab": {
          "base_uri": "https://localhost:8080/"
        },
        "id": "TEqx6gfJdfC7",
        "outputId": "90a979dd-f478-4449-8e75-b9c4de455e4e"
      },
      "execution_count": null,
      "outputs": [
        {
          "output_type": "stream",
          "name": "stdout",
          "text": [
            "['karla', 'amanda', 'mateus', 'clarice', 'joão']\n",
            "5\n"
          ]
        }
      ]
    },
    {
      "cell_type": "code",
      "source": [
        "lista=[\"karla\", \"amanda\", \"mateus\", \"clarice\", \"joão\"]\n",
        "lista.append(\"lucas\") #adicionar elemento na lista\n",
        "print (lista)\n",
        "print (len(lista))"
      ],
      "metadata": {
        "colab": {
          "base_uri": "https://localhost:8080/"
        },
        "id": "hSjIhtXwbYSI",
        "outputId": "3e824402-c8c1-48fa-d003-7f7b2ba7ac05"
      },
      "execution_count": null,
      "outputs": [
        {
          "output_type": "stream",
          "name": "stdout",
          "text": [
            "['karla', 'amanda', 'mateus', 'clarice', 'joão', 'lucas']\n",
            "6\n"
          ]
        }
      ]
    },
    {
      "cell_type": "code",
      "source": [
        "lista=[\"karla\", \"amanda\", \"mateus\", \"clarice\", \"joão\", \"lucas\"]\n",
        "lista.remove(\"lucas\") #remover elemento da lista e é o nome que coloca\n",
        "print (lista)\n",
        "print (len(lista))"
      ],
      "metadata": {
        "colab": {
          "base_uri": "https://localhost:8080/"
        },
        "id": "JnSDynfkdhA0",
        "outputId": "767f60a9-acd0-4746-cab2-4e73373819f7"
      },
      "execution_count": null,
      "outputs": [
        {
          "output_type": "stream",
          "name": "stdout",
          "text": [
            "['karla', 'amanda', 'mateus', 'clarice', 'joão']\n",
            "5\n"
          ]
        }
      ]
    },
    {
      "cell_type": "code",
      "source": [
        "lista=[\"karla\", \"amanda\", \"mateus\", \"clarice\", \"joão\", \"lucas\"]\n",
        "del lista[0] #remover elemento da lista e é o indice que coloca\n",
        "print (lista)\n",
        "print (len(lista))"
      ],
      "metadata": {
        "colab": {
          "base_uri": "https://localhost:8080/"
        },
        "id": "pC22rxh6e3gJ",
        "outputId": "4f0126e7-f295-443e-a42d-01fafbeffec8"
      },
      "execution_count": null,
      "outputs": [
        {
          "output_type": "stream",
          "name": "stdout",
          "text": [
            "['amanda', 'mateus', 'clarice', 'joão', 'lucas']\n",
            "5\n"
          ]
        }
      ]
    },
    {
      "cell_type": "code",
      "source": [
        "Peso = [30.0, 20.0, 10.0, 50.0, 40.0]  # Lista de pesos\n",
        "Massa = []  # Lista vazia para armazenar as massas\n",
        "\n",
        "# Calculando a massa\n",
        "for p in Peso:\n",
        "    m = p / 9.9  # Calcula a massa\n",
        "    Massa.append(round(m, 2))  # Adiciona a massa arredondada à lista\n",
        "\n",
        "# Imprimindo os resultados\n",
        "print(\"Peso:\", Peso)\n",
        "print(\"Massa:\", Massa)"
      ],
      "metadata": {
        "colab": {
          "base_uri": "https://localhost:8080/"
        },
        "id": "ePTMxzeR1A-3",
        "outputId": "b8739c8a-6d82-4c65-d6fb-2058c4ad9dbd"
      },
      "execution_count": null,
      "outputs": [
        {
          "output_type": "stream",
          "name": "stdout",
          "text": [
            "Peso: [30.0, 20.0, 10.0, 50.0, 40.0]\n",
            "Massa: [3.03, 2.02, 1.01, 5.05, 4.04]\n"
          ]
        }
      ]
    },
    {
      "cell_type": "code",
      "source": [
        "#Exercíco - Construa uma calculadora de Força considerando F=m*a e m=p/g onde g=9.9.\n",
        "\n",
        "#Definição da gravidade e da aceleração\n",
        "g = 9.9\n",
        "a = 10\n",
        "\n",
        "#Listas peso, massa e força\n",
        "ListaPeso = [10, 20, 30, 40, 50]\n",
        "ListaMassa = [15, 25, 35, 45, 55]\n",
        "ListaForca = [70, 110, 90, 160, 200]\n",
        "\n",
        "#Cálculo da força e da massa\n",
        "ForcaCalculada = [m * a for m in ListaMassa]\n",
        "MassaCalculada = [p / g for p in ListaPeso]\n",
        "\n",
        "#Exibição dos resultados com duas casas decimais\n",
        "MassaCalculadaFormatada = [f\"{m:.2f}\" for m in MassaCalculada]\n",
        "ForcaCalculadaFormatada = [f\"{f:.2f}\" for f in ForcaCalculada]\n",
        "\n",
        "#Exibição dos resultados\n",
        "print(f\"\\033[1mPeso:\\033[m {ListaPeso}\")\n",
        "print( )\n",
        "print(\"Formula utilizada para calculo da massa: \\033[1mMassa = Peso / Gravidade (9.9)\\033[m\")\n",
        "print(\"\\033[1mMassa Calculada:\\033[m {MassaCalculadaFormatada}\")\n",
        "print( )\n",
        "print(f\"Formula utilizado para calcular a força: \\033[1mForça = Massa * Aceleração (10)\\033[m \")\n",
        "print(f\"\\033[1mForça Calculada:\\033[m {ForcaCalculadaFormatada}\")"
      ],
      "metadata": {
        "id": "Jl1uiosaPxd4"
      },
      "execution_count": null,
      "outputs": []
    },
    {
      "cell_type": "code",
      "source": [
        "#aula 11/10\n",
        "\n",
        "\n",
        "nomes = []  # Cria uma lista vazia para armazenar os nomes\n",
        "for i in range(5):  # Inicia um laço que se repetirá 5 vezes\n",
        "    nome = input(f\"Digite um nome {i + 1}: \")  # Solicita ao usuário que digite um nome\n",
        "    nomes.append(nome)  # Adiciona o nome digitado à lista 'nomes'\n",
        "\n",
        "print(\"\\nOs nomes inseridos foram:\")  # Exibe uma mensagem antes de listar os nomes\n",
        "for nome in nomes:  # Itera sobre a lista 'nomes'\n",
        "    print(nome)  # Imprime cada nome\n"
      ],
      "metadata": {
        "colab": {
          "base_uri": "https://localhost:8080/"
        },
        "id": "y_21zuSRea7v",
        "outputId": "0f76f1ad-690a-47d1-f179-6e3316d9680e"
      },
      "execution_count": null,
      "outputs": [
        {
          "output_type": "stream",
          "name": "stdout",
          "text": [
            "Digite um nome: 1: amanda\n",
            "Digite um nome: 2: beatriz\n",
            "Digite um nome: 3: karla\n",
            "Digite um nome: 4: luiza\n",
            "Digite um nome: 5: jullya\n",
            "\n",
            " Os nomes inseridos foram: \n",
            "amanda\n",
            "beatriz\n",
            "karla\n",
            "luiza\n",
            "jullya\n"
          ]
        }
      ]
    },
    {
      "cell_type": "code",
      "source": [
        "nomes = []\n",
        "for i in range(5):\n",
        "    nome = input(f\"Digite um nome {i + 1}: \")\n",
        "    nomes.append(nome)\n",
        "\n",
        "print(\"\\nOs nomes inseridos foram:\")\n",
        "for i, nome in enumerate(nomes, start=1):\n",
        "    print(f\"{i} - {nome}\")"
      ],
      "metadata": {
        "colab": {
          "base_uri": "https://localhost:8080/"
        },
        "id": "iVBW89AZkVWs",
        "outputId": "4aa1e43f-1cd8-4f0b-fddf-323bfb66c872"
      },
      "execution_count": null,
      "outputs": [
        {
          "output_type": "stream",
          "name": "stdout",
          "text": [
            "Digite um nome 1: amanda\n",
            "Digite um nome 2: luiza\n",
            "Digite um nome 3: jullya\n",
            "Digite um nome 4: karla\n",
            "Digite um nome 5: leticia\n",
            "\n",
            "Os nomes inseridos foram:\n",
            "1 - amanda\n",
            "2 - luiza\n",
            "3 - jullya\n",
            "4 - karla\n",
            "5 - leticia\n"
          ]
        }
      ]
    },
    {
      "cell_type": "code",
      "source": [
        "def Investimento():\n",
        "    Nome = str(input(\"Qual seu nome? \")).title()\n",
        "    AporteMensal = float(input(\"Quanto você pode investir por mês? \"))\n",
        "    Anos = 1  # Período de investimento de um ano\n",
        "\n",
        "    print(\"\\nEscolha o tipo de risco:\")\n",
        "    print(\"1. Baixo risco (menos rentabilidade)\")\n",
        "    print(\"2. Médio risco (média rentabilidade)\")\n",
        "    print(\"3. Alto risco (alta rentabilidade)\")\n",
        "\n",
        "    Risco = input(\"Digite o número correspondente ao tipo de risco: \")\n",
        "\n",
        "    # Inicializa variáveis\n",
        "    Montante = 0\n",
        "    TaxaAnuais = 0\n",
        "    Investimentos = []\n",
        "\n",
        "    # Define a taxa de retorno e investimentos disponíveis com base na escolha do usuário\n",
        "    if Risco == \"1\":\n",
        "        TaxaAnuais = 0.02  # 2% ao ano\n",
        "        Investimentos = [\n",
        "            \"Tesouro Selic (Títulos Públicos)\",\n",
        "            \"CDB de grandes bancos\",\n",
        "            \"MRFG11 (Fundo de Renda Fixa)\"\n",
        "        ]\n",
        "    elif Risco == \"2\":\n",
        "        TaxaAnuais = 0.05  # 5% ao ano\n",
        "        Investimentos = [\n",
        "            \"MRFX11 (Fundo Multimercado)\",\n",
        "            \"XFIX11 (Fundo de Renda Fixa)\",\n",
        "            \"BCFF11 (Fundo de Fundos)\"\n",
        "        ]\n",
        "    elif Risco == \"3\":\n",
        "        TaxaAnuais = 0.10  # 10% ao ano\n",
        "        Investimentos = [\n",
        "            \"XPML11 (Fundo Imobiliário)\",\n",
        "            \"VTIQ11 (Fundo de Tecnologia)\",\n",
        "            \"GGRC11 (Fundo de Renda Imobiliária)\"\n",
        "        ]\n",
        "    else:\n",
        "        print(\"Opção inválida!\")\n",
        "        return  # Termina a função sem continuar\n",
        "\n",
        "    # Cálculo do montante final após o período de investimento\n",
        "    TaxaMensal = TaxaAnuais / 12  # Calculando a taxa mensal a partir da taxa anual\n",
        "    for Mes in range(Anos * 12):  # Convertendo anos em meses\n",
        "        Montante = (Montante + AporteMensal) * (1 + TaxaMensal)\n",
        "\n",
        "    print(f\"\\n{Nome}, ao final de {Anos} ano(s), você terá aproximadamente R${Montante:.2f}.\")\n",
        "\n",
        "    # Mostrando possíveis investimentos\n",
        "    print(\"\\nPossíveis investimentos para você:\")\n",
        "    for OpcaoInvestimento in Investimentos:\n",
        "        print(f\"- {OpcaoInvestimento}\")\n",
        "\n",
        "# Executando o programa\n",
        "Investimento()\n"
      ],
      "metadata": {
        "id": "YQ4Uc-hLY6NS"
      },
      "execution_count": null,
      "outputs": []
    },
    {
      "cell_type": "code",
      "source": [
        "def SimuladorInvestimentos():\n",
        "\n",
        "    Nome = str(input(\"Qual seu nome: \")).title()\n",
        "    IdadeAtual = int(input(\"Qual sua idade atual: \"))\n",
        "\n",
        "    # Escolha do tipo de risco\n",
        "    print(\"\\nEscolha o nível de risco para seus investimentos:\")\n",
        "    print(\"1. Baixo Risco (Menos Rentabilidade)\")\n",
        "    print(\"2. Médio Risco (Média Rentabilidade)\")\n",
        "    print(\"3. Alto Risco (Alta Rentabilidade)\")\n",
        "    Risco = input(\"Digite o número da opção escolhida: \")\n",
        "\n",
        "    # Taxa de retorno e investimentos disponíveis baseados na escolha do usuário\n",
        "    if Risco == \"1\":\n",
        "        TaxaAnuais = 0.02  # 2% ao ano\n",
        "        Investimentos = [\"MRFG11 (Fundo de Renda Fixa)\", \"HGLG11 (Fundo Imobiliário)\", \"TRXF11 (Fundo de Renda Fixa)\"]\n",
        "    elif Risco == \"2\":\n",
        "        TaxaAnuais = 0.05  # 5% ao ano\n",
        "        Investimentos = [\"MRFX11 (Fundo Multimercado)\", \"XFIX11 (Fundo de Renda Fixa)\", \"BCFF11 (Fundo de Fundos)\"]\n",
        "    elif Risco == \"3\":\n",
        "        TaxaAnuais = 0.10  # 10% ao ano\n",
        "        Investimentos = [\"XPML11 (Fundo Imobiliário)\", \"VTIQ11 (Fundo de Tecnologia)\", \"GGRC11 (Fundo de Renda Imobiliária)\"]\n",
        "    else:\n",
        "        print(\"Opção inválida!\")\n",
        "        return  # Termina a função sem continuar\n",
        "\n",
        "    # Mostrar possíveis investimentos\n",
        "    print(\"\\nPossíveis investimentos para você:\")\n",
        "    for Investimento in Investimentos:\n",
        "        print(f\"- {Investimento}\")\n",
        "\n",
        "    # Entrada do valor que o usuário pode investir mensalmente\n",
        "    ValorMensalInvestido = float(input(\"\\nQuanto você pode investir por mês? R$: \"))\n",
        "\n",
        "    # Entrada da quantidade de meses para o investimento\n",
        "    Meses = int(input(\"Por quantos meses você pretende investir? \"))\n",
        "\n",
        "    # Cálculo do montante final usando a fórmula do valor futuro\n",
        "    TaxaMensal = TaxaAnuais / 12  # Converte a taxa anual para mensal\n",
        "    MontanteFinal = 0  # Inicializa o montante final\n",
        "\n",
        "    for x in range(Meses):\n",
        "        MontanteFinal = (MontanteFinal + ValorMensalInvestido) * (1 + TaxaMensal)\n",
        "\n",
        "    # Cálculo do total investido e do rendimento\n",
        "    TotalInvestido = ValorMensalInvestido * Meses\n",
        "    Rendimento = MontanteFinal - TotalInvestido\n",
        "\n",
        "    # Resultado final\n",
        "    print(f\"\\nOlá, {Nome}! Aqui estão os resultados da sua simulação:\")\n",
        "    print(f\"Valor total investido: R$ {TotalInvestido:.2f}\")\n",
        "    print(f\"Valor final após {Meses} meses: R$ {MontanteFinal:.2f}\")\n",
        "    print(f\"Rendimento total: R$ {Rendimento:.2f}\")\n",
        "\n",
        "# Chamar a função para executar o simulador\n",
        "SimuladorInvestimentos()\n"
      ],
      "metadata": {
        "id": "x7mJw-LCZBsU"
      },
      "execution_count": null,
      "outputs": []
    },
    {
      "cell_type": "code",
      "source": [
        "def Saudacao():\n",
        "   print(\"Sejam bem vindos alunos da titia Karla!\")\n",
        "\n",
        "Saudacao()"
      ],
      "metadata": {
        "colab": {
          "base_uri": "https://localhost:8080/"
        },
        "id": "qp6dlD2Wmkm_",
        "outputId": "5aec65c8-cb19-49ae-90b8-67efad0d41b0"
      },
      "execution_count": null,
      "outputs": [
        {
          "output_type": "stream",
          "name": "stdout",
          "text": [
            "Sejam bem vindos alunos da titia Karla!\n"
          ]
        }
      ]
    },
    {
      "cell_type": "code",
      "source": [
        "#Definindo uma função\n",
        "def cadastro():\n",
        "  nome=[] #cria lista vazia\n",
        "  for i in range(5): # o loop repete até 4, ja que é um range de 0 a 5\n",
        "    nomecad=input(f\"Digite o {i+1}º nome: \") # cria uma variavel que recebe a entrada do usuário\n",
        "    nome.append(nomecad) #adiciona a variavel nomecad na lista nome\n",
        "    print(nome) #escreve a lista nome\n",
        "\n",
        "cadastro()#chama a def"
      ],
      "metadata": {
        "id": "czD9uN-CrDiv"
      },
      "execution_count": null,
      "outputs": []
    },
    {
      "cell_type": "code",
      "source": [
        "def ContaVogais(texto):\n",
        "    vogais = \"A, E, I, O, U, a, e, i, o, u\"\n",
        "    contador = 0\n",
        "    for letra in texto:\n",
        "        if letra in vogais:\n",
        "            contador += 1\n",
        "    return contador\n",
        "\n",
        "resultado=ContaVogais(\"Programaçao em Python\")\n",
        "print(f\"O número de vogais é: {resultado}\")"
      ],
      "metadata": {
        "colab": {
          "base_uri": "https://localhost:8080/"
        },
        "id": "jRtdfi1j3aV-",
        "outputId": "39ca2ae3-6b25-4eeb-c365-aeea3f7e813a"
      },
      "execution_count": null,
      "outputs": [
        {
          "output_type": "stream",
          "name": "stdout",
          "text": [
            "O número de vogais é: 9\n"
          ]
        }
      ]
    },
    {
      "cell_type": "code",
      "source": [],
      "metadata": {
        "colab": {
          "base_uri": "https://localhost:8080/"
        },
        "id": "o6C0N6rM6Huf",
        "outputId": "2326895f-23f4-4dfc-aad9-08328a0755e8"
      },
      "execution_count": null,
      "outputs": [
        {
          "output_type": "stream",
          "name": "stdout",
          "text": [
            "Digite um ano: 1979\n",
            "O ano não é bissexto.\n"
          ]
        }
      ]
    },
    {
      "cell_type": "code",
      "source": [
        "#Função split(): Esta função é chamada na string  e divide a string em partes menores, usando espaços como delimitadores por padrão.\n",
        "#Resultado: Se o usuário digitar 1 2 3 4, o resultado de lista1.split() será a lista de strings ['1', '2', '3', '4'].\n",
        "\n",
        "#Função set(): A função set é utilizada para criar um conjunto em Python. Um conjunto é uma coleção não ordenada de elementos únicos, o que significa que ele automaticamente remove quaisquer duplicatas.\n",
        "# Ao passar o resultado do map para set, você obtém um conjunto de números inteiros. Por exemplo, se a entrada fosse 1 2 2 3 4, o resultado seria {1, 2, 3, 4}.\n",
        "\n",
        "#map(function, iterable): A função map aplica a função especificada (neste caso, int) a cada item do iterable (neste caso, a lista de strings retornada por split()).\n",
        "\n",
        "#split():\n",
        "#Divide a string em uma lista de substrings, usando espaços como delimitadores padrão. Por exemplo, \"1 2 2 3 4\".split() resulta em ['1', '2', '2', '3', '4'].\n",
        "\n",
        "#map(int, ...):\n",
        "#Aplica a função int a cada elemento da lista resultante do split(), convertendo as substrings que representam números em inteiros. Assim, map(int, ['1', '2', '2', '3', '4']) resulta em um objeto que representa [1, 2, 2, 3, 4].\n",
        "\n",
        "#set(...):\n",
        "#Cria um conjunto a partir da lista de inteiros resultante do map, removendo automaticamente qualquer duplicata. Por exemplo, set([1, 2, 2, 3, 4]) resulta em {1, 2, 3, 4}."
      ],
      "metadata": {
        "id": "nmBj7UU6d4qI"
      },
      "execution_count": null,
      "outputs": []
    },
    {
      "cell_type": "code",
      "source": [
        "# Define a função ElementosComuns que recebe duas listas como strings\n",
        "def ElementosComuns(lista1, lista2):\n",
        "    # Converter as strings de listas em conjuntos de inteiros\n",
        "    lista1_convertida = set(map(int, lista1.split()))\n",
        "    lista2_convertida = set(map(int, lista2.split()))\n",
        "\n",
        "    # Encontrar os elementos comuns entre os dois conjuntos\n",
        "    elementos_comuns = lista1_convertida & lista2_convertida  # Conjunto de elementos comuns\n",
        "\n",
        "    # Retornar o resultado como uma lista\n",
        "    return list(elementos_comuns)  # Converte os elementos comuns de volta para lista\n",
        "\n",
        "# Solicita ao usuário que digite a primeira lista de números inteiros\n",
        "lista1 = input(\"Digite a primeira lista de números inteiros separados por espaço: \")\n",
        "# Solicita ao usuário que digite a segunda lista de números inteiros\n",
        "lista2 = input(\"Digite a segunda lista de números inteiros separados por espaço: \")\n",
        "\n",
        "# Chama a função  e imprime os elementos comuns entre as duas listas\n",
        "print(\"Elementos comuns nas duas listas:\", ElementosComuns(lista1, lista2))"
      ],
      "metadata": {
        "id": "VYB-QtIxGPWG"
      },
      "execution_count": null,
      "outputs": []
    }
  ],
  "metadata": {
    "colab": {
      "provenance": [],
      "authorship_tag": "ABX9TyP+pO7xDcayZAFe/A+ct1Cu",
      "include_colab_link": true
    },
    "kernelspec": {
      "display_name": "Python 3",
      "name": "python3"
    },
    "language_info": {
      "name": "python"
    }
  },
  "nbformat": 4,
  "nbformat_minor": 0
}